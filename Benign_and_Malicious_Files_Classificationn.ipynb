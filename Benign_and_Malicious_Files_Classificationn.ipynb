{
  "nbformat": 4,
  "nbformat_minor": 0,
  "metadata": {
    "colab": {
      "name": "Benign and Malicious Files Classification.ipynb",
      "provenance": [],
      "collapsed_sections": [
        "ZXzCBJK3btPi",
        "76j154H5bcd9",
        "d6PxrgCljgbs",
        "QZBve3h10D83"
      ],
      "toc_visible": true
    },
    "kernelspec": {
      "name": "python3",
      "display_name": "Python 3"
    }
  },
  "cells": [
    {
      "cell_type": "code",
      "metadata": {
        "id": "Z5yiIWUP2ZBn"
      },
      "source": [
        "# This Python 3 environment comes with many helpful analytics libraries installed\r\n",
        "# It is defined by the kaggle/python Docker image: https://github.com/kaggle/docker-python\r\n",
        "# For example, here's several helpful packages to load\r\n",
        "\r\n",
        "import numpy as np # linear algebra\r\n",
        "import pandas as pd # data processing, CSV file I/O (e.g. pd.read_csv)\r\n",
        "\r\n",
        "# Input data files are available in the read-only \"../input/\" directory\r\n",
        "# For example, running this (by clicking run or pressing Shift+Enter) will list all files under the input directory\r\n",
        "\r\n",
        "import os\r\n",
        "for dirname, _, filenames in os.walk('/kaggle/input'):\r\n",
        "    for filename in filenames:\r\n",
        "        print(os.path.join(dirname, filename))\r\n",
        "\r\n",
        "# You can write up to 20GB to the current directory (/kaggle/working/) that gets preserved as output when you create a version using \"Save & Run All\" \r\n",
        "# You can also write temporary files to /kaggle/temp/, but they won't be saved outside of the current session"
      ],
      "execution_count": null,
      "outputs": []
    },
    {
      "cell_type": "markdown",
      "metadata": {
        "id": "jiYV5QiWk6wR"
      },
      "source": [
        "# Импорт библиотек"
      ]
    },
    {
      "cell_type": "code",
      "metadata": {
        "id": "Rgthi411X2Ss"
      },
      "source": [
        "import numpy as np\r\n",
        "import pandas as pd\r\n",
        "\r\n",
        "\r\n",
        "# libraries for visualization\r\n",
        "import matplotlib.pyplot as plt\r\n",
        "import seaborn as sns\r\n",
        "import plotly\r\n",
        "import plotly.graph_objs as go\r\n",
        "from plotly.offline import download_plotlyjs, init_notebook_mode, plot, iplot\r\n",
        "\r\n",
        "\r\n",
        "# libraries for machine learning\r\n",
        "from sklearn.model_selection import *\r\n",
        "from sklearn.feature_selection import *\r\n",
        "from sklearn.ensemble import *\r\n",
        "from sklearn.metrics import *\r\n",
        "from sklearn.model_selection import *\r\n",
        "from sklearn.tree import *\r\n",
        "from sklearn.preprocessing import *\r\n",
        "\r\n",
        "\r\n",
        "\r\n",
        "sns.set_style('dark')"
      ],
      "execution_count": null,
      "outputs": []
    },
    {
      "cell_type": "markdown",
      "metadata": {
        "id": "yTwyuR2maruP"
      },
      "source": [
        "# ОБНАРУЖЕНИЕ ВРЕДОНОСНЫХ ПРОГРАММ МЕТОДАМИ\r\n",
        "# МАШИННОГО ОБУЧЕНИЯ"
      ]
    },
    {
      "cell_type": "markdown",
      "metadata": {
        "id": "Lid_rMfsa5mK"
      },
      "source": [
        "### Классификация файлов на вредоносные и на не вредоносные методами машинного обучения."
      ]
    },
    {
      "cell_type": "markdown",
      "metadata": {
        "id": "-bjXBpIHbf1Z"
      },
      "source": [
        "### Набор данных является результатом исследования машинного обучении и обнаружении вредоносных программ. Он был построен с использованием библиотеки Python и содержит доброкачественные и вредоносные данные из PE-файлов."
      ]
    },
    {
      "cell_type": "markdown",
      "metadata": {
        "id": "ZXzCBJK3btPi"
      },
      "source": [
        "## Загрузка данных. Тренировачная и тестовая выборка."
      ]
    },
    {
      "cell_type": "code",
      "metadata": {
        "id": "zQsJdpwWYcf3",
        "colab": {
          "base_uri": "https://localhost:8080/",
          "height": 391
        },
        "outputId": "60b119f4-6b07-42ff-d273-58c0b100e0a0"
      },
      "source": [
        "train_data = pd.read_csv('dataset_malwares.csv')\r\n",
        "test_data = pd.read_csv('dataset_test.csv')"
      ],
      "execution_count": null,
      "outputs": [
        {
          "output_type": "error",
          "ename": "FileNotFoundError",
          "evalue": "ignored",
          "traceback": [
            "\u001b[0;31m---------------------------------------------------------------------------\u001b[0m",
            "\u001b[0;31mFileNotFoundError\u001b[0m                         Traceback (most recent call last)",
            "\u001b[0;32m<ipython-input-3-708290297888>\u001b[0m in \u001b[0;36m<module>\u001b[0;34m()\u001b[0m\n\u001b[0;32m----> 1\u001b[0;31m \u001b[0mtrain_data\u001b[0m \u001b[0;34m=\u001b[0m \u001b[0mpd\u001b[0m\u001b[0;34m.\u001b[0m\u001b[0mread_csv\u001b[0m\u001b[0;34m(\u001b[0m\u001b[0;34m'dataset_malwares.csv'\u001b[0m\u001b[0;34m)\u001b[0m\u001b[0;34m\u001b[0m\u001b[0;34m\u001b[0m\u001b[0m\n\u001b[0m\u001b[1;32m      2\u001b[0m \u001b[0mtest_data\u001b[0m \u001b[0;34m=\u001b[0m \u001b[0mpd\u001b[0m\u001b[0;34m.\u001b[0m\u001b[0mread_csv\u001b[0m\u001b[0;34m(\u001b[0m\u001b[0;34m'dataset_test.csv'\u001b[0m\u001b[0;34m)\u001b[0m\u001b[0;34m\u001b[0m\u001b[0;34m\u001b[0m\u001b[0m\n",
            "\u001b[0;32m/usr/local/lib/python3.6/dist-packages/pandas/io/parsers.py\u001b[0m in \u001b[0;36mread_csv\u001b[0;34m(filepath_or_buffer, sep, delimiter, header, names, index_col, usecols, squeeze, prefix, mangle_dupe_cols, dtype, engine, converters, true_values, false_values, skipinitialspace, skiprows, skipfooter, nrows, na_values, keep_default_na, na_filter, verbose, skip_blank_lines, parse_dates, infer_datetime_format, keep_date_col, date_parser, dayfirst, cache_dates, iterator, chunksize, compression, thousands, decimal, lineterminator, quotechar, quoting, doublequote, escapechar, comment, encoding, dialect, error_bad_lines, warn_bad_lines, delim_whitespace, low_memory, memory_map, float_precision)\u001b[0m\n\u001b[1;32m    686\u001b[0m     )\n\u001b[1;32m    687\u001b[0m \u001b[0;34m\u001b[0m\u001b[0m\n\u001b[0;32m--> 688\u001b[0;31m     \u001b[0;32mreturn\u001b[0m \u001b[0m_read\u001b[0m\u001b[0;34m(\u001b[0m\u001b[0mfilepath_or_buffer\u001b[0m\u001b[0;34m,\u001b[0m \u001b[0mkwds\u001b[0m\u001b[0;34m)\u001b[0m\u001b[0;34m\u001b[0m\u001b[0;34m\u001b[0m\u001b[0m\n\u001b[0m\u001b[1;32m    689\u001b[0m \u001b[0;34m\u001b[0m\u001b[0m\n\u001b[1;32m    690\u001b[0m \u001b[0;34m\u001b[0m\u001b[0m\n",
            "\u001b[0;32m/usr/local/lib/python3.6/dist-packages/pandas/io/parsers.py\u001b[0m in \u001b[0;36m_read\u001b[0;34m(filepath_or_buffer, kwds)\u001b[0m\n\u001b[1;32m    452\u001b[0m \u001b[0;34m\u001b[0m\u001b[0m\n\u001b[1;32m    453\u001b[0m     \u001b[0;31m# Create the parser.\u001b[0m\u001b[0;34m\u001b[0m\u001b[0;34m\u001b[0m\u001b[0;34m\u001b[0m\u001b[0m\n\u001b[0;32m--> 454\u001b[0;31m     \u001b[0mparser\u001b[0m \u001b[0;34m=\u001b[0m \u001b[0mTextFileReader\u001b[0m\u001b[0;34m(\u001b[0m\u001b[0mfp_or_buf\u001b[0m\u001b[0;34m,\u001b[0m \u001b[0;34m**\u001b[0m\u001b[0mkwds\u001b[0m\u001b[0;34m)\u001b[0m\u001b[0;34m\u001b[0m\u001b[0;34m\u001b[0m\u001b[0m\n\u001b[0m\u001b[1;32m    455\u001b[0m \u001b[0;34m\u001b[0m\u001b[0m\n\u001b[1;32m    456\u001b[0m     \u001b[0;32mif\u001b[0m \u001b[0mchunksize\u001b[0m \u001b[0;32mor\u001b[0m \u001b[0miterator\u001b[0m\u001b[0;34m:\u001b[0m\u001b[0;34m\u001b[0m\u001b[0;34m\u001b[0m\u001b[0m\n",
            "\u001b[0;32m/usr/local/lib/python3.6/dist-packages/pandas/io/parsers.py\u001b[0m in \u001b[0;36m__init__\u001b[0;34m(self, f, engine, **kwds)\u001b[0m\n\u001b[1;32m    946\u001b[0m             \u001b[0mself\u001b[0m\u001b[0;34m.\u001b[0m\u001b[0moptions\u001b[0m\u001b[0;34m[\u001b[0m\u001b[0;34m\"has_index_names\"\u001b[0m\u001b[0;34m]\u001b[0m \u001b[0;34m=\u001b[0m \u001b[0mkwds\u001b[0m\u001b[0;34m[\u001b[0m\u001b[0;34m\"has_index_names\"\u001b[0m\u001b[0;34m]\u001b[0m\u001b[0;34m\u001b[0m\u001b[0;34m\u001b[0m\u001b[0m\n\u001b[1;32m    947\u001b[0m \u001b[0;34m\u001b[0m\u001b[0m\n\u001b[0;32m--> 948\u001b[0;31m         \u001b[0mself\u001b[0m\u001b[0;34m.\u001b[0m\u001b[0m_make_engine\u001b[0m\u001b[0;34m(\u001b[0m\u001b[0mself\u001b[0m\u001b[0;34m.\u001b[0m\u001b[0mengine\u001b[0m\u001b[0;34m)\u001b[0m\u001b[0;34m\u001b[0m\u001b[0;34m\u001b[0m\u001b[0m\n\u001b[0m\u001b[1;32m    949\u001b[0m \u001b[0;34m\u001b[0m\u001b[0m\n\u001b[1;32m    950\u001b[0m     \u001b[0;32mdef\u001b[0m \u001b[0mclose\u001b[0m\u001b[0;34m(\u001b[0m\u001b[0mself\u001b[0m\u001b[0;34m)\u001b[0m\u001b[0;34m:\u001b[0m\u001b[0;34m\u001b[0m\u001b[0;34m\u001b[0m\u001b[0m\n",
            "\u001b[0;32m/usr/local/lib/python3.6/dist-packages/pandas/io/parsers.py\u001b[0m in \u001b[0;36m_make_engine\u001b[0;34m(self, engine)\u001b[0m\n\u001b[1;32m   1178\u001b[0m     \u001b[0;32mdef\u001b[0m \u001b[0m_make_engine\u001b[0m\u001b[0;34m(\u001b[0m\u001b[0mself\u001b[0m\u001b[0;34m,\u001b[0m \u001b[0mengine\u001b[0m\u001b[0;34m=\u001b[0m\u001b[0;34m\"c\"\u001b[0m\u001b[0;34m)\u001b[0m\u001b[0;34m:\u001b[0m\u001b[0;34m\u001b[0m\u001b[0;34m\u001b[0m\u001b[0m\n\u001b[1;32m   1179\u001b[0m         \u001b[0;32mif\u001b[0m \u001b[0mengine\u001b[0m \u001b[0;34m==\u001b[0m \u001b[0;34m\"c\"\u001b[0m\u001b[0;34m:\u001b[0m\u001b[0;34m\u001b[0m\u001b[0;34m\u001b[0m\u001b[0m\n\u001b[0;32m-> 1180\u001b[0;31m             \u001b[0mself\u001b[0m\u001b[0;34m.\u001b[0m\u001b[0m_engine\u001b[0m \u001b[0;34m=\u001b[0m \u001b[0mCParserWrapper\u001b[0m\u001b[0;34m(\u001b[0m\u001b[0mself\u001b[0m\u001b[0;34m.\u001b[0m\u001b[0mf\u001b[0m\u001b[0;34m,\u001b[0m \u001b[0;34m**\u001b[0m\u001b[0mself\u001b[0m\u001b[0;34m.\u001b[0m\u001b[0moptions\u001b[0m\u001b[0;34m)\u001b[0m\u001b[0;34m\u001b[0m\u001b[0;34m\u001b[0m\u001b[0m\n\u001b[0m\u001b[1;32m   1181\u001b[0m         \u001b[0;32melse\u001b[0m\u001b[0;34m:\u001b[0m\u001b[0;34m\u001b[0m\u001b[0;34m\u001b[0m\u001b[0m\n\u001b[1;32m   1182\u001b[0m             \u001b[0;32mif\u001b[0m \u001b[0mengine\u001b[0m \u001b[0;34m==\u001b[0m \u001b[0;34m\"python\"\u001b[0m\u001b[0;34m:\u001b[0m\u001b[0;34m\u001b[0m\u001b[0;34m\u001b[0m\u001b[0m\n",
            "\u001b[0;32m/usr/local/lib/python3.6/dist-packages/pandas/io/parsers.py\u001b[0m in \u001b[0;36m__init__\u001b[0;34m(self, src, **kwds)\u001b[0m\n\u001b[1;32m   2008\u001b[0m         \u001b[0mkwds\u001b[0m\u001b[0;34m[\u001b[0m\u001b[0;34m\"usecols\"\u001b[0m\u001b[0;34m]\u001b[0m \u001b[0;34m=\u001b[0m \u001b[0mself\u001b[0m\u001b[0;34m.\u001b[0m\u001b[0musecols\u001b[0m\u001b[0;34m\u001b[0m\u001b[0;34m\u001b[0m\u001b[0m\n\u001b[1;32m   2009\u001b[0m \u001b[0;34m\u001b[0m\u001b[0m\n\u001b[0;32m-> 2010\u001b[0;31m         \u001b[0mself\u001b[0m\u001b[0;34m.\u001b[0m\u001b[0m_reader\u001b[0m \u001b[0;34m=\u001b[0m \u001b[0mparsers\u001b[0m\u001b[0;34m.\u001b[0m\u001b[0mTextReader\u001b[0m\u001b[0;34m(\u001b[0m\u001b[0msrc\u001b[0m\u001b[0;34m,\u001b[0m \u001b[0;34m**\u001b[0m\u001b[0mkwds\u001b[0m\u001b[0;34m)\u001b[0m\u001b[0;34m\u001b[0m\u001b[0;34m\u001b[0m\u001b[0m\n\u001b[0m\u001b[1;32m   2011\u001b[0m         \u001b[0mself\u001b[0m\u001b[0;34m.\u001b[0m\u001b[0munnamed_cols\u001b[0m \u001b[0;34m=\u001b[0m \u001b[0mself\u001b[0m\u001b[0;34m.\u001b[0m\u001b[0m_reader\u001b[0m\u001b[0;34m.\u001b[0m\u001b[0munnamed_cols\u001b[0m\u001b[0;34m\u001b[0m\u001b[0;34m\u001b[0m\u001b[0m\n\u001b[1;32m   2012\u001b[0m \u001b[0;34m\u001b[0m\u001b[0m\n",
            "\u001b[0;32mpandas/_libs/parsers.pyx\u001b[0m in \u001b[0;36mpandas._libs.parsers.TextReader.__cinit__\u001b[0;34m()\u001b[0m\n",
            "\u001b[0;32mpandas/_libs/parsers.pyx\u001b[0m in \u001b[0;36mpandas._libs.parsers.TextReader._setup_parser_source\u001b[0;34m()\u001b[0m\n",
            "\u001b[0;31mFileNotFoundError\u001b[0m: [Errno 2] No such file or directory: 'dataset_malwares.csv'"
          ]
        }
      ]
    },
    {
      "cell_type": "markdown",
      "metadata": {
        "id": "76j154H5bcd9"
      },
      "source": [
        "# * Data\r\n",
        "\r\n",
        "Так как признаков очень много, то демонстрация будет проходить по отдельности по 10-12 признаков."
      ]
    },
    {
      "cell_type": "code",
      "metadata": {
        "colab": {
          "base_uri": "https://localhost:8080/",
          "height": 419
        },
        "id": "MWkSI_fyYj__",
        "outputId": "c1eb8145-e3fe-46ed-d846-ca0ae1f56384"
      },
      "source": [
        "train_data.iloc[:, : 11]"
      ],
      "execution_count": null,
      "outputs": [
        {
          "output_type": "execute_result",
          "data": {
            "text/html": [
              "<div>\n",
              "<style scoped>\n",
              "    .dataframe tbody tr th:only-of-type {\n",
              "        vertical-align: middle;\n",
              "    }\n",
              "\n",
              "    .dataframe tbody tr th {\n",
              "        vertical-align: top;\n",
              "    }\n",
              "\n",
              "    .dataframe thead th {\n",
              "        text-align: right;\n",
              "    }\n",
              "</style>\n",
              "<table border=\"1\" class=\"dataframe\">\n",
              "  <thead>\n",
              "    <tr style=\"text-align: right;\">\n",
              "      <th></th>\n",
              "      <th>Name</th>\n",
              "      <th>e_magic</th>\n",
              "      <th>e_cblp</th>\n",
              "      <th>e_cp</th>\n",
              "      <th>e_crlc</th>\n",
              "      <th>e_cparhdr</th>\n",
              "      <th>e_minalloc</th>\n",
              "      <th>e_maxalloc</th>\n",
              "      <th>e_ss</th>\n",
              "      <th>e_sp</th>\n",
              "      <th>e_csum</th>\n",
              "    </tr>\n",
              "  </thead>\n",
              "  <tbody>\n",
              "    <tr>\n",
              "      <th>0</th>\n",
              "      <td>VirusShare_a878ba26000edaac5c98eff4432723b3</td>\n",
              "      <td>23117</td>\n",
              "      <td>144</td>\n",
              "      <td>3</td>\n",
              "      <td>0</td>\n",
              "      <td>4</td>\n",
              "      <td>0</td>\n",
              "      <td>65535</td>\n",
              "      <td>0</td>\n",
              "      <td>184</td>\n",
              "      <td>0</td>\n",
              "    </tr>\n",
              "    <tr>\n",
              "      <th>1</th>\n",
              "      <td>VirusShare_ef9130570fddc174b312b2047f5f4cf0</td>\n",
              "      <td>23117</td>\n",
              "      <td>144</td>\n",
              "      <td>3</td>\n",
              "      <td>0</td>\n",
              "      <td>4</td>\n",
              "      <td>0</td>\n",
              "      <td>65535</td>\n",
              "      <td>0</td>\n",
              "      <td>184</td>\n",
              "      <td>0</td>\n",
              "    </tr>\n",
              "    <tr>\n",
              "      <th>2</th>\n",
              "      <td>VirusShare_ef84cdeba22be72a69b198213dada81a</td>\n",
              "      <td>23117</td>\n",
              "      <td>144</td>\n",
              "      <td>3</td>\n",
              "      <td>0</td>\n",
              "      <td>4</td>\n",
              "      <td>0</td>\n",
              "      <td>65535</td>\n",
              "      <td>0</td>\n",
              "      <td>184</td>\n",
              "      <td>0</td>\n",
              "    </tr>\n",
              "    <tr>\n",
              "      <th>3</th>\n",
              "      <td>VirusShare_6bf3608e60ebc16cbcff6ed5467d469e</td>\n",
              "      <td>23117</td>\n",
              "      <td>144</td>\n",
              "      <td>3</td>\n",
              "      <td>0</td>\n",
              "      <td>4</td>\n",
              "      <td>0</td>\n",
              "      <td>65535</td>\n",
              "      <td>0</td>\n",
              "      <td>184</td>\n",
              "      <td>0</td>\n",
              "    </tr>\n",
              "    <tr>\n",
              "      <th>4</th>\n",
              "      <td>VirusShare_2cc94d952b2efb13c7d6bbe0dd59d3fb</td>\n",
              "      <td>23117</td>\n",
              "      <td>144</td>\n",
              "      <td>3</td>\n",
              "      <td>0</td>\n",
              "      <td>4</td>\n",
              "      <td>0</td>\n",
              "      <td>65535</td>\n",
              "      <td>0</td>\n",
              "      <td>184</td>\n",
              "      <td>0</td>\n",
              "    </tr>\n",
              "    <tr>\n",
              "      <th>...</th>\n",
              "      <td>...</td>\n",
              "      <td>...</td>\n",
              "      <td>...</td>\n",
              "      <td>...</td>\n",
              "      <td>...</td>\n",
              "      <td>...</td>\n",
              "      <td>...</td>\n",
              "      <td>...</td>\n",
              "      <td>...</td>\n",
              "      <td>...</td>\n",
              "      <td>...</td>\n",
              "    </tr>\n",
              "    <tr>\n",
              "      <th>9054</th>\n",
              "      <td>VirusShare_a6f666f6ee1bc24eb43e7553bdd9fab4</td>\n",
              "      <td>23117</td>\n",
              "      <td>144</td>\n",
              "      <td>3</td>\n",
              "      <td>0</td>\n",
              "      <td>4</td>\n",
              "      <td>0</td>\n",
              "      <td>65535</td>\n",
              "      <td>0</td>\n",
              "      <td>184</td>\n",
              "      <td>0</td>\n",
              "    </tr>\n",
              "    <tr>\n",
              "      <th>9055</th>\n",
              "      <td>VirusShare_efbfd761beef7aee5a88f228c9f54038</td>\n",
              "      <td>23117</td>\n",
              "      <td>144</td>\n",
              "      <td>3</td>\n",
              "      <td>0</td>\n",
              "      <td>4</td>\n",
              "      <td>0</td>\n",
              "      <td>65535</td>\n",
              "      <td>0</td>\n",
              "      <td>184</td>\n",
              "      <td>0</td>\n",
              "    </tr>\n",
              "    <tr>\n",
              "      <th>9056</th>\n",
              "      <td>VirusShare_efd5b131b6fac49f1d5a60c4cc967240</td>\n",
              "      <td>23117</td>\n",
              "      <td>144</td>\n",
              "      <td>3</td>\n",
              "      <td>0</td>\n",
              "      <td>4</td>\n",
              "      <td>0</td>\n",
              "      <td>65535</td>\n",
              "      <td>0</td>\n",
              "      <td>184</td>\n",
              "      <td>0</td>\n",
              "    </tr>\n",
              "    <tr>\n",
              "      <th>9057</th>\n",
              "      <td>VirusShare_efe1145695db0ca86c1a9861f434a930</td>\n",
              "      <td>23117</td>\n",
              "      <td>144</td>\n",
              "      <td>3</td>\n",
              "      <td>0</td>\n",
              "      <td>4</td>\n",
              "      <td>0</td>\n",
              "      <td>65535</td>\n",
              "      <td>0</td>\n",
              "      <td>184</td>\n",
              "      <td>0</td>\n",
              "    </tr>\n",
              "    <tr>\n",
              "      <th>9058</th>\n",
              "      <td>VirusShare_efbb5e59216e11f3115fee3925a37bac</td>\n",
              "      <td>23117</td>\n",
              "      <td>144</td>\n",
              "      <td>3</td>\n",
              "      <td>0</td>\n",
              "      <td>4</td>\n",
              "      <td>0</td>\n",
              "      <td>65535</td>\n",
              "      <td>0</td>\n",
              "      <td>184</td>\n",
              "      <td>0</td>\n",
              "    </tr>\n",
              "  </tbody>\n",
              "</table>\n",
              "<p>9059 rows × 11 columns</p>\n",
              "</div>"
            ],
            "text/plain": [
              "                                             Name  e_magic  ...  e_sp  e_csum\n",
              "0     VirusShare_a878ba26000edaac5c98eff4432723b3    23117  ...   184       0\n",
              "1     VirusShare_ef9130570fddc174b312b2047f5f4cf0    23117  ...   184       0\n",
              "2     VirusShare_ef84cdeba22be72a69b198213dada81a    23117  ...   184       0\n",
              "3     VirusShare_6bf3608e60ebc16cbcff6ed5467d469e    23117  ...   184       0\n",
              "4     VirusShare_2cc94d952b2efb13c7d6bbe0dd59d3fb    23117  ...   184       0\n",
              "...                                           ...      ...  ...   ...     ...\n",
              "9054  VirusShare_a6f666f6ee1bc24eb43e7553bdd9fab4    23117  ...   184       0\n",
              "9055  VirusShare_efbfd761beef7aee5a88f228c9f54038    23117  ...   184       0\n",
              "9056  VirusShare_efd5b131b6fac49f1d5a60c4cc967240    23117  ...   184       0\n",
              "9057  VirusShare_efe1145695db0ca86c1a9861f434a930    23117  ...   184       0\n",
              "9058  VirusShare_efbb5e59216e11f3115fee3925a37bac    23117  ...   184       0\n",
              "\n",
              "[9059 rows x 11 columns]"
            ]
          },
          "metadata": {
            "tags": []
          },
          "execution_count": 3
        }
      ]
    },
    {
      "cell_type": "code",
      "metadata": {
        "colab": {
          "base_uri": "https://localhost:8080/",
          "height": 419
        },
        "id": "pn8j0060Ykju",
        "outputId": "e8ebad18-8ad3-4c2b-dc7a-dfb4740b5dd9"
      },
      "source": [
        "train_data.iloc[:, 11 : 22]"
      ],
      "execution_count": null,
      "outputs": [
        {
          "output_type": "execute_result",
          "data": {
            "text/html": [
              "<div>\n",
              "<style scoped>\n",
              "    .dataframe tbody tr th:only-of-type {\n",
              "        vertical-align: middle;\n",
              "    }\n",
              "\n",
              "    .dataframe tbody tr th {\n",
              "        vertical-align: top;\n",
              "    }\n",
              "\n",
              "    .dataframe thead th {\n",
              "        text-align: right;\n",
              "    }\n",
              "</style>\n",
              "<table border=\"1\" class=\"dataframe\">\n",
              "  <thead>\n",
              "    <tr style=\"text-align: right;\">\n",
              "      <th></th>\n",
              "      <th>e_ip</th>\n",
              "      <th>e_cs</th>\n",
              "      <th>e_lfarlc</th>\n",
              "      <th>e_ovno</th>\n",
              "      <th>e_oemid</th>\n",
              "      <th>e_oeminfo</th>\n",
              "      <th>e_lfanew</th>\n",
              "      <th>Machine</th>\n",
              "      <th>NumberOfSections</th>\n",
              "      <th>TimeDateStamp</th>\n",
              "      <th>PointerToSymbolTable</th>\n",
              "    </tr>\n",
              "  </thead>\n",
              "  <tbody>\n",
              "    <tr>\n",
              "      <th>0</th>\n",
              "      <td>0</td>\n",
              "      <td>0</td>\n",
              "      <td>64</td>\n",
              "      <td>0</td>\n",
              "      <td>0</td>\n",
              "      <td>0</td>\n",
              "      <td>248</td>\n",
              "      <td>34404</td>\n",
              "      <td>6</td>\n",
              "      <td>1236512358</td>\n",
              "      <td>0.0</td>\n",
              "    </tr>\n",
              "    <tr>\n",
              "      <th>1</th>\n",
              "      <td>0</td>\n",
              "      <td>0</td>\n",
              "      <td>64</td>\n",
              "      <td>0</td>\n",
              "      <td>0</td>\n",
              "      <td>0</td>\n",
              "      <td>240</td>\n",
              "      <td>332</td>\n",
              "      <td>5</td>\n",
              "      <td>1365109591</td>\n",
              "      <td>0.0</td>\n",
              "    </tr>\n",
              "    <tr>\n",
              "      <th>2</th>\n",
              "      <td>0</td>\n",
              "      <td>0</td>\n",
              "      <td>64</td>\n",
              "      <td>0</td>\n",
              "      <td>0</td>\n",
              "      <td>0</td>\n",
              "      <td>256</td>\n",
              "      <td>332</td>\n",
              "      <td>6</td>\n",
              "      <td>1438777028</td>\n",
              "      <td>0.0</td>\n",
              "    </tr>\n",
              "    <tr>\n",
              "      <th>3</th>\n",
              "      <td>0</td>\n",
              "      <td>0</td>\n",
              "      <td>64</td>\n",
              "      <td>0</td>\n",
              "      <td>0</td>\n",
              "      <td>0</td>\n",
              "      <td>128</td>\n",
              "      <td>332</td>\n",
              "      <td>7</td>\n",
              "      <td>1354629311</td>\n",
              "      <td>0.0</td>\n",
              "    </tr>\n",
              "    <tr>\n",
              "      <th>4</th>\n",
              "      <td>0</td>\n",
              "      <td>0</td>\n",
              "      <td>64</td>\n",
              "      <td>0</td>\n",
              "      <td>0</td>\n",
              "      <td>0</td>\n",
              "      <td>128</td>\n",
              "      <td>332</td>\n",
              "      <td>7</td>\n",
              "      <td>1386631250</td>\n",
              "      <td>0.0</td>\n",
              "    </tr>\n",
              "    <tr>\n",
              "      <th>...</th>\n",
              "      <td>...</td>\n",
              "      <td>...</td>\n",
              "      <td>...</td>\n",
              "      <td>...</td>\n",
              "      <td>...</td>\n",
              "      <td>...</td>\n",
              "      <td>...</td>\n",
              "      <td>...</td>\n",
              "      <td>...</td>\n",
              "      <td>...</td>\n",
              "      <td>...</td>\n",
              "    </tr>\n",
              "    <tr>\n",
              "      <th>9054</th>\n",
              "      <td>0</td>\n",
              "      <td>0</td>\n",
              "      <td>64</td>\n",
              "      <td>0</td>\n",
              "      <td>0</td>\n",
              "      <td>0</td>\n",
              "      <td>192</td>\n",
              "      <td>34404</td>\n",
              "      <td>2</td>\n",
              "      <td>1424756337</td>\n",
              "      <td>0.0</td>\n",
              "    </tr>\n",
              "    <tr>\n",
              "      <th>9055</th>\n",
              "      <td>0</td>\n",
              "      <td>0</td>\n",
              "      <td>64</td>\n",
              "      <td>0</td>\n",
              "      <td>0</td>\n",
              "      <td>0</td>\n",
              "      <td>232</td>\n",
              "      <td>332</td>\n",
              "      <td>5</td>\n",
              "      <td>1109955351</td>\n",
              "      <td>0.0</td>\n",
              "    </tr>\n",
              "    <tr>\n",
              "      <th>9056</th>\n",
              "      <td>0</td>\n",
              "      <td>0</td>\n",
              "      <td>64</td>\n",
              "      <td>0</td>\n",
              "      <td>0</td>\n",
              "      <td>0</td>\n",
              "      <td>208</td>\n",
              "      <td>332</td>\n",
              "      <td>4</td>\n",
              "      <td>1398185783</td>\n",
              "      <td>0.0</td>\n",
              "    </tr>\n",
              "    <tr>\n",
              "      <th>9057</th>\n",
              "      <td>0</td>\n",
              "      <td>0</td>\n",
              "      <td>64</td>\n",
              "      <td>0</td>\n",
              "      <td>0</td>\n",
              "      <td>0</td>\n",
              "      <td>232</td>\n",
              "      <td>332</td>\n",
              "      <td>4</td>\n",
              "      <td>1241387873</td>\n",
              "      <td>0.0</td>\n",
              "    </tr>\n",
              "    <tr>\n",
              "      <th>9058</th>\n",
              "      <td>0</td>\n",
              "      <td>0</td>\n",
              "      <td>64</td>\n",
              "      <td>0</td>\n",
              "      <td>0</td>\n",
              "      <td>0</td>\n",
              "      <td>200</td>\n",
              "      <td>332</td>\n",
              "      <td>5</td>\n",
              "      <td>12453</td>\n",
              "      <td>NaN</td>\n",
              "    </tr>\n",
              "  </tbody>\n",
              "</table>\n",
              "<p>9059 rows × 11 columns</p>\n",
              "</div>"
            ],
            "text/plain": [
              "      e_ip  e_cs  ...  TimeDateStamp  PointerToSymbolTable\n",
              "0        0     0  ...     1236512358                   0.0\n",
              "1        0     0  ...     1365109591                   0.0\n",
              "2        0     0  ...     1438777028                   0.0\n",
              "3        0     0  ...     1354629311                   0.0\n",
              "4        0     0  ...     1386631250                   0.0\n",
              "...    ...   ...  ...            ...                   ...\n",
              "9054     0     0  ...     1424756337                   0.0\n",
              "9055     0     0  ...     1109955351                   0.0\n",
              "9056     0     0  ...     1398185783                   0.0\n",
              "9057     0     0  ...     1241387873                   0.0\n",
              "9058     0     0  ...          12453                   NaN\n",
              "\n",
              "[9059 rows x 11 columns]"
            ]
          },
          "metadata": {
            "tags": []
          },
          "execution_count": 4
        }
      ]
    },
    {
      "cell_type": "code",
      "metadata": {
        "colab": {
          "base_uri": "https://localhost:8080/",
          "height": 407
        },
        "id": "BdkpInrwcJLW",
        "outputId": "75d0154c-53fe-4fcf-ca36-76bc7b7d340b"
      },
      "source": [
        "train_data.iloc[:, 22 : 30]"
      ],
      "execution_count": null,
      "outputs": [
        {
          "output_type": "execute_result",
          "data": {
            "text/html": [
              "<div>\n",
              "<style scoped>\n",
              "    .dataframe tbody tr th:only-of-type {\n",
              "        vertical-align: middle;\n",
              "    }\n",
              "\n",
              "    .dataframe tbody tr th {\n",
              "        vertical-align: top;\n",
              "    }\n",
              "\n",
              "    .dataframe thead th {\n",
              "        text-align: right;\n",
              "    }\n",
              "</style>\n",
              "<table border=\"1\" class=\"dataframe\">\n",
              "  <thead>\n",
              "    <tr style=\"text-align: right;\">\n",
              "      <th></th>\n",
              "      <th>NumberOfSymbols</th>\n",
              "      <th>SizeOfOptionalHeader</th>\n",
              "      <th>Characteristics</th>\n",
              "      <th>Magic</th>\n",
              "      <th>MajorLinkerVersion</th>\n",
              "      <th>MinorLinkerVersion</th>\n",
              "      <th>SizeOfCode</th>\n",
              "      <th>SizeOfInitializedData</th>\n",
              "    </tr>\n",
              "  </thead>\n",
              "  <tbody>\n",
              "    <tr>\n",
              "      <th>0</th>\n",
              "      <td>0</td>\n",
              "      <td>240</td>\n",
              "      <td>34</td>\n",
              "      <td>523</td>\n",
              "      <td>8</td>\n",
              "      <td>0</td>\n",
              "      <td>54784</td>\n",
              "      <td>189440</td>\n",
              "    </tr>\n",
              "    <tr>\n",
              "      <th>1</th>\n",
              "      <td>0</td>\n",
              "      <td>224</td>\n",
              "      <td>258</td>\n",
              "      <td>267</td>\n",
              "      <td>9</td>\n",
              "      <td>0</td>\n",
              "      <td>205824</td>\n",
              "      <td>139264</td>\n",
              "    </tr>\n",
              "    <tr>\n",
              "      <th>2</th>\n",
              "      <td>0</td>\n",
              "      <td>224</td>\n",
              "      <td>14</td>\n",
              "      <td>267</td>\n",
              "      <td>6</td>\n",
              "      <td>0</td>\n",
              "      <td>24576</td>\n",
              "      <td>20480</td>\n",
              "    </tr>\n",
              "    <tr>\n",
              "      <th>3</th>\n",
              "      <td>0</td>\n",
              "      <td>224</td>\n",
              "      <td>783</td>\n",
              "      <td>267</td>\n",
              "      <td>2</td>\n",
              "      <td>22</td>\n",
              "      <td>34304</td>\n",
              "      <td>28160</td>\n",
              "    </tr>\n",
              "    <tr>\n",
              "      <th>4</th>\n",
              "      <td>0</td>\n",
              "      <td>224</td>\n",
              "      <td>783</td>\n",
              "      <td>267</td>\n",
              "      <td>2</td>\n",
              "      <td>56</td>\n",
              "      <td>8192</td>\n",
              "      <td>89600</td>\n",
              "    </tr>\n",
              "    <tr>\n",
              "      <th>...</th>\n",
              "      <td>...</td>\n",
              "      <td>...</td>\n",
              "      <td>...</td>\n",
              "      <td>...</td>\n",
              "      <td>...</td>\n",
              "      <td>...</td>\n",
              "      <td>...</td>\n",
              "      <td>...</td>\n",
              "    </tr>\n",
              "    <tr>\n",
              "      <th>19606</th>\n",
              "      <td>0</td>\n",
              "      <td>224</td>\n",
              "      <td>258</td>\n",
              "      <td>267</td>\n",
              "      <td>11</td>\n",
              "      <td>0</td>\n",
              "      <td>16384</td>\n",
              "      <td>9216</td>\n",
              "    </tr>\n",
              "    <tr>\n",
              "      <th>19607</th>\n",
              "      <td>0</td>\n",
              "      <td>224</td>\n",
              "      <td>258</td>\n",
              "      <td>267</td>\n",
              "      <td>12</td>\n",
              "      <td>0</td>\n",
              "      <td>1183744</td>\n",
              "      <td>17670656</td>\n",
              "    </tr>\n",
              "    <tr>\n",
              "      <th>19608</th>\n",
              "      <td>0</td>\n",
              "      <td>224</td>\n",
              "      <td>8450</td>\n",
              "      <td>267</td>\n",
              "      <td>11</td>\n",
              "      <td>0</td>\n",
              "      <td>0</td>\n",
              "      <td>0</td>\n",
              "    </tr>\n",
              "    <tr>\n",
              "      <th>19609</th>\n",
              "      <td>0</td>\n",
              "      <td>224</td>\n",
              "      <td>8450</td>\n",
              "      <td>267</td>\n",
              "      <td>11</td>\n",
              "      <td>0</td>\n",
              "      <td>85504</td>\n",
              "      <td>277504</td>\n",
              "    </tr>\n",
              "    <tr>\n",
              "      <th>19610</th>\n",
              "      <td>0</td>\n",
              "      <td>224</td>\n",
              "      <td>8450</td>\n",
              "      <td>267</td>\n",
              "      <td>11</td>\n",
              "      <td>0</td>\n",
              "      <td>531456</td>\n",
              "      <td>58368</td>\n",
              "    </tr>\n",
              "  </tbody>\n",
              "</table>\n",
              "<p>19611 rows × 8 columns</p>\n",
              "</div>"
            ],
            "text/plain": [
              "       NumberOfSymbols  SizeOfOptionalHeader  ...  SizeOfCode  SizeOfInitializedData\n",
              "0                    0                   240  ...       54784                 189440\n",
              "1                    0                   224  ...      205824                 139264\n",
              "2                    0                   224  ...       24576                  20480\n",
              "3                    0                   224  ...       34304                  28160\n",
              "4                    0                   224  ...        8192                  89600\n",
              "...                ...                   ...  ...         ...                    ...\n",
              "19606                0                   224  ...       16384                   9216\n",
              "19607                0                   224  ...     1183744               17670656\n",
              "19608                0                   224  ...           0                      0\n",
              "19609                0                   224  ...       85504                 277504\n",
              "19610                0                   224  ...      531456                  58368\n",
              "\n",
              "[19611 rows x 8 columns]"
            ]
          },
          "metadata": {
            "tags": []
          },
          "execution_count": 9
        }
      ]
    },
    {
      "cell_type": "code",
      "metadata": {
        "colab": {
          "base_uri": "https://localhost:8080/",
          "height": 407
        },
        "id": "_6wIidLhcc-f",
        "outputId": "147b73fe-13ab-442b-9307-f25482652e01"
      },
      "source": [
        "train_data.iloc[:, 30 : 37]"
      ],
      "execution_count": null,
      "outputs": [
        {
          "output_type": "execute_result",
          "data": {
            "text/html": [
              "<div>\n",
              "<style scoped>\n",
              "    .dataframe tbody tr th:only-of-type {\n",
              "        vertical-align: middle;\n",
              "    }\n",
              "\n",
              "    .dataframe tbody tr th {\n",
              "        vertical-align: top;\n",
              "    }\n",
              "\n",
              "    .dataframe thead th {\n",
              "        text-align: right;\n",
              "    }\n",
              "</style>\n",
              "<table border=\"1\" class=\"dataframe\">\n",
              "  <thead>\n",
              "    <tr style=\"text-align: right;\">\n",
              "      <th></th>\n",
              "      <th>SizeOfUninitializedData</th>\n",
              "      <th>AddressOfEntryPoint</th>\n",
              "      <th>BaseOfCode</th>\n",
              "      <th>ImageBase</th>\n",
              "      <th>SectionAlignment</th>\n",
              "      <th>FileAlignment</th>\n",
              "      <th>MajorOperatingSystemVersion</th>\n",
              "    </tr>\n",
              "  </thead>\n",
              "  <tbody>\n",
              "    <tr>\n",
              "      <th>0</th>\n",
              "      <td>0</td>\n",
              "      <td>51316</td>\n",
              "      <td>4096</td>\n",
              "      <td>4294967296</td>\n",
              "      <td>4096</td>\n",
              "      <td>512</td>\n",
              "      <td>6</td>\n",
              "    </tr>\n",
              "    <tr>\n",
              "      <th>1</th>\n",
              "      <td>0</td>\n",
              "      <td>84654</td>\n",
              "      <td>4096</td>\n",
              "      <td>4194304</td>\n",
              "      <td>4096</td>\n",
              "      <td>512</td>\n",
              "      <td>5</td>\n",
              "    </tr>\n",
              "    <tr>\n",
              "      <th>2</th>\n",
              "      <td>0</td>\n",
              "      <td>27364</td>\n",
              "      <td>256</td>\n",
              "      <td>4194304</td>\n",
              "      <td>4096</td>\n",
              "      <td>4096</td>\n",
              "      <td>4</td>\n",
              "    </tr>\n",
              "    <tr>\n",
              "      <th>3</th>\n",
              "      <td>297472</td>\n",
              "      <td>16685</td>\n",
              "      <td>4096</td>\n",
              "      <td>4194304</td>\n",
              "      <td>4096</td>\n",
              "      <td>512</td>\n",
              "      <td>4</td>\n",
              "    </tr>\n",
              "    <tr>\n",
              "      <th>4</th>\n",
              "      <td>512</td>\n",
              "      <td>4416</td>\n",
              "      <td>4096</td>\n",
              "      <td>4194304</td>\n",
              "      <td>4096</td>\n",
              "      <td>512</td>\n",
              "      <td>4</td>\n",
              "    </tr>\n",
              "    <tr>\n",
              "      <th>...</th>\n",
              "      <td>...</td>\n",
              "      <td>...</td>\n",
              "      <td>...</td>\n",
              "      <td>...</td>\n",
              "      <td>...</td>\n",
              "      <td>...</td>\n",
              "      <td>...</td>\n",
              "    </tr>\n",
              "    <tr>\n",
              "      <th>19606</th>\n",
              "      <td>0</td>\n",
              "      <td>18700</td>\n",
              "      <td>4096</td>\n",
              "      <td>4194304</td>\n",
              "      <td>4096</td>\n",
              "      <td>512</td>\n",
              "      <td>6</td>\n",
              "    </tr>\n",
              "    <tr>\n",
              "      <th>19607</th>\n",
              "      <td>0</td>\n",
              "      <td>664450</td>\n",
              "      <td>4096</td>\n",
              "      <td>4194304</td>\n",
              "      <td>4096</td>\n",
              "      <td>512</td>\n",
              "      <td>5</td>\n",
              "    </tr>\n",
              "    <tr>\n",
              "      <th>19608</th>\n",
              "      <td>0</td>\n",
              "      <td>0</td>\n",
              "      <td>0</td>\n",
              "      <td>268435456</td>\n",
              "      <td>4096</td>\n",
              "      <td>512</td>\n",
              "      <td>5</td>\n",
              "    </tr>\n",
              "    <tr>\n",
              "      <th>19609</th>\n",
              "      <td>0</td>\n",
              "      <td>84281</td>\n",
              "      <td>4096</td>\n",
              "      <td>268435456</td>\n",
              "      <td>4096</td>\n",
              "      <td>512</td>\n",
              "      <td>6</td>\n",
              "    </tr>\n",
              "    <tr>\n",
              "      <th>19610</th>\n",
              "      <td>0</td>\n",
              "      <td>4284</td>\n",
              "      <td>4096</td>\n",
              "      <td>1980235776</td>\n",
              "      <td>4096</td>\n",
              "      <td>512</td>\n",
              "      <td>6</td>\n",
              "    </tr>\n",
              "  </tbody>\n",
              "</table>\n",
              "<p>19611 rows × 7 columns</p>\n",
              "</div>"
            ],
            "text/plain": [
              "       SizeOfUninitializedData  ...  MajorOperatingSystemVersion\n",
              "0                            0  ...                            6\n",
              "1                            0  ...                            5\n",
              "2                            0  ...                            4\n",
              "3                       297472  ...                            4\n",
              "4                          512  ...                            4\n",
              "...                        ...  ...                          ...\n",
              "19606                        0  ...                            6\n",
              "19607                        0  ...                            5\n",
              "19608                        0  ...                            5\n",
              "19609                        0  ...                            6\n",
              "19610                        0  ...                            6\n",
              "\n",
              "[19611 rows x 7 columns]"
            ]
          },
          "metadata": {
            "tags": []
          },
          "execution_count": 10
        }
      ]
    },
    {
      "cell_type": "code",
      "metadata": {
        "colab": {
          "base_uri": "https://localhost:8080/",
          "height": 407
        },
        "id": "LFzFOzdoctlB",
        "outputId": "0a369005-c300-41f7-c747-ddc45daac09a"
      },
      "source": [
        "train_data.iloc[:, 37 : 44]"
      ],
      "execution_count": null,
      "outputs": [
        {
          "output_type": "execute_result",
          "data": {
            "text/html": [
              "<div>\n",
              "<style scoped>\n",
              "    .dataframe tbody tr th:only-of-type {\n",
              "        vertical-align: middle;\n",
              "    }\n",
              "\n",
              "    .dataframe tbody tr th {\n",
              "        vertical-align: top;\n",
              "    }\n",
              "\n",
              "    .dataframe thead th {\n",
              "        text-align: right;\n",
              "    }\n",
              "</style>\n",
              "<table border=\"1\" class=\"dataframe\">\n",
              "  <thead>\n",
              "    <tr style=\"text-align: right;\">\n",
              "      <th></th>\n",
              "      <th>MinorOperatingSystemVersion</th>\n",
              "      <th>MajorImageVersion</th>\n",
              "      <th>MinorImageVersion</th>\n",
              "      <th>MajorSubsystemVersion</th>\n",
              "      <th>MinorSubsystemVersion</th>\n",
              "      <th>SizeOfHeaders</th>\n",
              "      <th>CheckSum</th>\n",
              "    </tr>\n",
              "  </thead>\n",
              "  <tbody>\n",
              "    <tr>\n",
              "      <th>0</th>\n",
              "      <td>0</td>\n",
              "      <td>6</td>\n",
              "      <td>0</td>\n",
              "      <td>5</td>\n",
              "      <td>2</td>\n",
              "      <td>1024</td>\n",
              "      <td>295281</td>\n",
              "    </tr>\n",
              "    <tr>\n",
              "      <th>1</th>\n",
              "      <td>0</td>\n",
              "      <td>0</td>\n",
              "      <td>0</td>\n",
              "      <td>5</td>\n",
              "      <td>0</td>\n",
              "      <td>1024</td>\n",
              "      <td>0</td>\n",
              "    </tr>\n",
              "    <tr>\n",
              "      <th>2</th>\n",
              "      <td>0</td>\n",
              "      <td>0</td>\n",
              "      <td>0</td>\n",
              "      <td>4</td>\n",
              "      <td>0</td>\n",
              "      <td>4096</td>\n",
              "      <td>0</td>\n",
              "    </tr>\n",
              "    <tr>\n",
              "      <th>3</th>\n",
              "      <td>0</td>\n",
              "      <td>6</td>\n",
              "      <td>0</td>\n",
              "      <td>4</td>\n",
              "      <td>0</td>\n",
              "      <td>1024</td>\n",
              "      <td>14174816</td>\n",
              "    </tr>\n",
              "    <tr>\n",
              "      <th>4</th>\n",
              "      <td>0</td>\n",
              "      <td>1</td>\n",
              "      <td>0</td>\n",
              "      <td>4</td>\n",
              "      <td>0</td>\n",
              "      <td>1024</td>\n",
              "      <td>0</td>\n",
              "    </tr>\n",
              "    <tr>\n",
              "      <th>...</th>\n",
              "      <td>...</td>\n",
              "      <td>...</td>\n",
              "      <td>...</td>\n",
              "      <td>...</td>\n",
              "      <td>...</td>\n",
              "      <td>...</td>\n",
              "      <td>...</td>\n",
              "    </tr>\n",
              "    <tr>\n",
              "      <th>19606</th>\n",
              "      <td>3</td>\n",
              "      <td>6</td>\n",
              "      <td>3</td>\n",
              "      <td>6</td>\n",
              "      <td>3</td>\n",
              "      <td>1024</td>\n",
              "      <td>28252</td>\n",
              "    </tr>\n",
              "    <tr>\n",
              "      <th>19607</th>\n",
              "      <td>1</td>\n",
              "      <td>0</td>\n",
              "      <td>0</td>\n",
              "      <td>5</td>\n",
              "      <td>1</td>\n",
              "      <td>1024</td>\n",
              "      <td>18898230</td>\n",
              "    </tr>\n",
              "    <tr>\n",
              "      <th>19608</th>\n",
              "      <td>0</td>\n",
              "      <td>0</td>\n",
              "      <td>0</td>\n",
              "      <td>5</td>\n",
              "      <td>0</td>\n",
              "      <td>1024</td>\n",
              "      <td>0</td>\n",
              "    </tr>\n",
              "    <tr>\n",
              "      <th>19609</th>\n",
              "      <td>3</td>\n",
              "      <td>6</td>\n",
              "      <td>3</td>\n",
              "      <td>6</td>\n",
              "      <td>3</td>\n",
              "      <td>1024</td>\n",
              "      <td>370840</td>\n",
              "    </tr>\n",
              "    <tr>\n",
              "      <th>19610</th>\n",
              "      <td>3</td>\n",
              "      <td>6</td>\n",
              "      <td>3</td>\n",
              "      <td>6</td>\n",
              "      <td>3</td>\n",
              "      <td>1024</td>\n",
              "      <td>610969</td>\n",
              "    </tr>\n",
              "  </tbody>\n",
              "</table>\n",
              "<p>19611 rows × 7 columns</p>\n",
              "</div>"
            ],
            "text/plain": [
              "       MinorOperatingSystemVersion  MajorImageVersion  ...  SizeOfHeaders  CheckSum\n",
              "0                                0                  6  ...           1024    295281\n",
              "1                                0                  0  ...           1024         0\n",
              "2                                0                  0  ...           4096         0\n",
              "3                                0                  6  ...           1024  14174816\n",
              "4                                0                  1  ...           1024         0\n",
              "...                            ...                ...  ...            ...       ...\n",
              "19606                            3                  6  ...           1024     28252\n",
              "19607                            1                  0  ...           1024  18898230\n",
              "19608                            0                  0  ...           1024         0\n",
              "19609                            3                  6  ...           1024    370840\n",
              "19610                            3                  6  ...           1024    610969\n",
              "\n",
              "[19611 rows x 7 columns]"
            ]
          },
          "metadata": {
            "tags": []
          },
          "execution_count": 11
        }
      ]
    },
    {
      "cell_type": "code",
      "metadata": {
        "colab": {
          "base_uri": "https://localhost:8080/",
          "height": 407
        },
        "id": "ydzsdu_ydWlL",
        "outputId": "a9a5981a-6095-4cc5-d9ac-a309fd28c12c"
      },
      "source": [
        "train_data.iloc[:, 44 : 52]"
      ],
      "execution_count": null,
      "outputs": [
        {
          "output_type": "execute_result",
          "data": {
            "text/html": [
              "<div>\n",
              "<style scoped>\n",
              "    .dataframe tbody tr th:only-of-type {\n",
              "        vertical-align: middle;\n",
              "    }\n",
              "\n",
              "    .dataframe tbody tr th {\n",
              "        vertical-align: top;\n",
              "    }\n",
              "\n",
              "    .dataframe thead th {\n",
              "        text-align: right;\n",
              "    }\n",
              "</style>\n",
              "<table border=\"1\" class=\"dataframe\">\n",
              "  <thead>\n",
              "    <tr style=\"text-align: right;\">\n",
              "      <th></th>\n",
              "      <th>SizeOfImage</th>\n",
              "      <th>Subsystem</th>\n",
              "      <th>DllCharacteristics</th>\n",
              "      <th>SizeOfStackReserve</th>\n",
              "      <th>SizeOfStackCommit</th>\n",
              "      <th>SizeOfHeapReserve</th>\n",
              "      <th>SizeOfHeapCommit</th>\n",
              "      <th>LoaderFlags</th>\n",
              "    </tr>\n",
              "  </thead>\n",
              "  <tbody>\n",
              "    <tr>\n",
              "      <th>0</th>\n",
              "      <td>274432</td>\n",
              "      <td>2</td>\n",
              "      <td>32832</td>\n",
              "      <td>524288</td>\n",
              "      <td>8192</td>\n",
              "      <td>1048576</td>\n",
              "      <td>4096</td>\n",
              "      <td>0</td>\n",
              "    </tr>\n",
              "    <tr>\n",
              "      <th>1</th>\n",
              "      <td>442368</td>\n",
              "      <td>2</td>\n",
              "      <td>33088</td>\n",
              "      <td>1048576</td>\n",
              "      <td>4096</td>\n",
              "      <td>1048576</td>\n",
              "      <td>4096</td>\n",
              "      <td>0</td>\n",
              "    </tr>\n",
              "    <tr>\n",
              "      <th>2</th>\n",
              "      <td>49152</td>\n",
              "      <td>2</td>\n",
              "      <td>0</td>\n",
              "      <td>1048576</td>\n",
              "      <td>4096</td>\n",
              "      <td>1048576</td>\n",
              "      <td>69632</td>\n",
              "      <td>0</td>\n",
              "    </tr>\n",
              "    <tr>\n",
              "      <th>3</th>\n",
              "      <td>1032192</td>\n",
              "      <td>2</td>\n",
              "      <td>32768</td>\n",
              "      <td>2097152</td>\n",
              "      <td>4096</td>\n",
              "      <td>1048576</td>\n",
              "      <td>4096</td>\n",
              "      <td>0</td>\n",
              "    </tr>\n",
              "    <tr>\n",
              "      <th>4</th>\n",
              "      <td>110592</td>\n",
              "      <td>2</td>\n",
              "      <td>0</td>\n",
              "      <td>2097152</td>\n",
              "      <td>4096</td>\n",
              "      <td>1048576</td>\n",
              "      <td>4096</td>\n",
              "      <td>0</td>\n",
              "    </tr>\n",
              "    <tr>\n",
              "      <th>...</th>\n",
              "      <td>...</td>\n",
              "      <td>...</td>\n",
              "      <td>...</td>\n",
              "      <td>...</td>\n",
              "      <td>...</td>\n",
              "      <td>...</td>\n",
              "      <td>...</td>\n",
              "      <td>...</td>\n",
              "    </tr>\n",
              "    <tr>\n",
              "      <th>19606</th>\n",
              "      <td>36864</td>\n",
              "      <td>3</td>\n",
              "      <td>33088</td>\n",
              "      <td>262144</td>\n",
              "      <td>8192</td>\n",
              "      <td>1048576</td>\n",
              "      <td>4096</td>\n",
              "      <td>0</td>\n",
              "    </tr>\n",
              "    <tr>\n",
              "      <th>19607</th>\n",
              "      <td>18882560</td>\n",
              "      <td>2</td>\n",
              "      <td>33088</td>\n",
              "      <td>1048576</td>\n",
              "      <td>4096</td>\n",
              "      <td>1048576</td>\n",
              "      <td>4096</td>\n",
              "      <td>0</td>\n",
              "    </tr>\n",
              "    <tr>\n",
              "      <th>19608</th>\n",
              "      <td>278528</td>\n",
              "      <td>3</td>\n",
              "      <td>34112</td>\n",
              "      <td>0</td>\n",
              "      <td>0</td>\n",
              "      <td>0</td>\n",
              "      <td>0</td>\n",
              "      <td>0</td>\n",
              "    </tr>\n",
              "    <tr>\n",
              "      <th>19609</th>\n",
              "      <td>376832</td>\n",
              "      <td>2</td>\n",
              "      <td>320</td>\n",
              "      <td>262144</td>\n",
              "      <td>4096</td>\n",
              "      <td>1048576</td>\n",
              "      <td>4096</td>\n",
              "      <td>0</td>\n",
              "    </tr>\n",
              "    <tr>\n",
              "      <th>19610</th>\n",
              "      <td>606208</td>\n",
              "      <td>2</td>\n",
              "      <td>320</td>\n",
              "      <td>262144</td>\n",
              "      <td>4096</td>\n",
              "      <td>1048576</td>\n",
              "      <td>4096</td>\n",
              "      <td>0</td>\n",
              "    </tr>\n",
              "  </tbody>\n",
              "</table>\n",
              "<p>19611 rows × 8 columns</p>\n",
              "</div>"
            ],
            "text/plain": [
              "       SizeOfImage  Subsystem  ...  SizeOfHeapCommit  LoaderFlags\n",
              "0           274432          2  ...              4096            0\n",
              "1           442368          2  ...              4096            0\n",
              "2            49152          2  ...             69632            0\n",
              "3          1032192          2  ...              4096            0\n",
              "4           110592          2  ...              4096            0\n",
              "...            ...        ...  ...               ...          ...\n",
              "19606        36864          3  ...              4096            0\n",
              "19607     18882560          2  ...              4096            0\n",
              "19608       278528          3  ...                 0            0\n",
              "19609       376832          2  ...              4096            0\n",
              "19610       606208          2  ...              4096            0\n",
              "\n",
              "[19611 rows x 8 columns]"
            ]
          },
          "metadata": {
            "tags": []
          },
          "execution_count": 12
        }
      ]
    },
    {
      "cell_type": "code",
      "metadata": {
        "colab": {
          "base_uri": "https://localhost:8080/",
          "height": 407
        },
        "id": "aKxAGHx4eXch",
        "outputId": "acf3943e-329c-47b9-c4bc-e9cde1ea0cbf"
      },
      "source": [
        "train_data.iloc[:, 52 : 59]"
      ],
      "execution_count": null,
      "outputs": [
        {
          "output_type": "execute_result",
          "data": {
            "text/html": [
              "<div>\n",
              "<style scoped>\n",
              "    .dataframe tbody tr th:only-of-type {\n",
              "        vertical-align: middle;\n",
              "    }\n",
              "\n",
              "    .dataframe tbody tr th {\n",
              "        vertical-align: top;\n",
              "    }\n",
              "\n",
              "    .dataframe thead th {\n",
              "        text-align: right;\n",
              "    }\n",
              "</style>\n",
              "<table border=\"1\" class=\"dataframe\">\n",
              "  <thead>\n",
              "    <tr style=\"text-align: right;\">\n",
              "      <th></th>\n",
              "      <th>NumberOfRvaAndSizes</th>\n",
              "      <th>Malware</th>\n",
              "      <th>SuspiciousImportFunctions</th>\n",
              "      <th>SuspiciousNameSection</th>\n",
              "      <th>SectionsLength</th>\n",
              "      <th>SectionMinEntropy</th>\n",
              "      <th>SectionMaxEntropy</th>\n",
              "    </tr>\n",
              "  </thead>\n",
              "  <tbody>\n",
              "    <tr>\n",
              "      <th>0</th>\n",
              "      <td>16</td>\n",
              "      <td>1</td>\n",
              "      <td>0</td>\n",
              "      <td>0</td>\n",
              "      <td>6</td>\n",
              "      <td>0.000000</td>\n",
              "      <td>0</td>\n",
              "    </tr>\n",
              "    <tr>\n",
              "      <th>1</th>\n",
              "      <td>16</td>\n",
              "      <td>1</td>\n",
              "      <td>0</td>\n",
              "      <td>0</td>\n",
              "      <td>5</td>\n",
              "      <td>3.815281</td>\n",
              "      <td>0</td>\n",
              "    </tr>\n",
              "    <tr>\n",
              "      <th>2</th>\n",
              "      <td>528</td>\n",
              "      <td>1</td>\n",
              "      <td>0</td>\n",
              "      <td>0</td>\n",
              "      <td>6</td>\n",
              "      <td>0.103538</td>\n",
              "      <td>0</td>\n",
              "    </tr>\n",
              "    <tr>\n",
              "      <th>3</th>\n",
              "      <td>16</td>\n",
              "      <td>1</td>\n",
              "      <td>14</td>\n",
              "      <td>0</td>\n",
              "      <td>7</td>\n",
              "      <td>0.000000</td>\n",
              "      <td>0</td>\n",
              "    </tr>\n",
              "    <tr>\n",
              "      <th>4</th>\n",
              "      <td>16</td>\n",
              "      <td>1</td>\n",
              "      <td>2</td>\n",
              "      <td>0</td>\n",
              "      <td>7</td>\n",
              "      <td>0.000000</td>\n",
              "      <td>0</td>\n",
              "    </tr>\n",
              "    <tr>\n",
              "      <th>...</th>\n",
              "      <td>...</td>\n",
              "      <td>...</td>\n",
              "      <td>...</td>\n",
              "      <td>...</td>\n",
              "      <td>...</td>\n",
              "      <td>...</td>\n",
              "      <td>...</td>\n",
              "    </tr>\n",
              "    <tr>\n",
              "      <th>19606</th>\n",
              "      <td>16</td>\n",
              "      <td>0</td>\n",
              "      <td>3</td>\n",
              "      <td>0</td>\n",
              "      <td>5</td>\n",
              "      <td>0.183339</td>\n",
              "      <td>0</td>\n",
              "    </tr>\n",
              "    <tr>\n",
              "      <th>19607</th>\n",
              "      <td>16</td>\n",
              "      <td>0</td>\n",
              "      <td>25</td>\n",
              "      <td>0</td>\n",
              "      <td>5</td>\n",
              "      <td>4.786680</td>\n",
              "      <td>0</td>\n",
              "    </tr>\n",
              "    <tr>\n",
              "      <th>19608</th>\n",
              "      <td>16</td>\n",
              "      <td>0</td>\n",
              "      <td>0</td>\n",
              "      <td>0</td>\n",
              "      <td>4</td>\n",
              "      <td>4.366447</td>\n",
              "      <td>0</td>\n",
              "    </tr>\n",
              "    <tr>\n",
              "      <th>19609</th>\n",
              "      <td>16</td>\n",
              "      <td>0</td>\n",
              "      <td>0</td>\n",
              "      <td>0</td>\n",
              "      <td>5</td>\n",
              "      <td>2.672701</td>\n",
              "      <td>0</td>\n",
              "    </tr>\n",
              "    <tr>\n",
              "      <th>19610</th>\n",
              "      <td>16</td>\n",
              "      <td>0</td>\n",
              "      <td>10</td>\n",
              "      <td>0</td>\n",
              "      <td>6</td>\n",
              "      <td>1.585782</td>\n",
              "      <td>0</td>\n",
              "    </tr>\n",
              "  </tbody>\n",
              "</table>\n",
              "<p>19611 rows × 7 columns</p>\n",
              "</div>"
            ],
            "text/plain": [
              "       NumberOfRvaAndSizes  Malware  ...  SectionMinEntropy  SectionMaxEntropy\n",
              "0                       16        1  ...           0.000000                  0\n",
              "1                       16        1  ...           3.815281                  0\n",
              "2                      528        1  ...           0.103538                  0\n",
              "3                       16        1  ...           0.000000                  0\n",
              "4                       16        1  ...           0.000000                  0\n",
              "...                    ...      ...  ...                ...                ...\n",
              "19606                   16        0  ...           0.183339                  0\n",
              "19607                   16        0  ...           4.786680                  0\n",
              "19608                   16        0  ...           4.366447                  0\n",
              "19609                   16        0  ...           2.672701                  0\n",
              "19610                   16        0  ...           1.585782                  0\n",
              "\n",
              "[19611 rows x 7 columns]"
            ]
          },
          "metadata": {
            "tags": []
          },
          "execution_count": 13
        }
      ]
    },
    {
      "cell_type": "code",
      "metadata": {
        "colab": {
          "base_uri": "https://localhost:8080/",
          "height": 407
        },
        "id": "EbGJk5NBejjo",
        "outputId": "e5e03573-cacc-4466-8b54-81ffe5bf2da3"
      },
      "source": [
        "train_data.iloc[:, 59 : 66]"
      ],
      "execution_count": null,
      "outputs": [
        {
          "output_type": "execute_result",
          "data": {
            "text/html": [
              "<div>\n",
              "<style scoped>\n",
              "    .dataframe tbody tr th:only-of-type {\n",
              "        vertical-align: middle;\n",
              "    }\n",
              "\n",
              "    .dataframe tbody tr th {\n",
              "        vertical-align: top;\n",
              "    }\n",
              "\n",
              "    .dataframe thead th {\n",
              "        text-align: right;\n",
              "    }\n",
              "</style>\n",
              "<table border=\"1\" class=\"dataframe\">\n",
              "  <thead>\n",
              "    <tr style=\"text-align: right;\">\n",
              "      <th></th>\n",
              "      <th>SectionMinRawsize</th>\n",
              "      <th>SectionMaxRawsize</th>\n",
              "      <th>SectionMinVirtualsize</th>\n",
              "      <th>SectionMaxVirtualsize</th>\n",
              "      <th>SectionMaxPhysical</th>\n",
              "      <th>SectionMinPhysical</th>\n",
              "      <th>SectionMaxVirtual</th>\n",
              "    </tr>\n",
              "  </thead>\n",
              "  <tbody>\n",
              "    <tr>\n",
              "      <th>0</th>\n",
              "      <td>512</td>\n",
              "      <td>0</td>\n",
              "      <td>274</td>\n",
              "      <td>0</td>\n",
              "      <td>188416</td>\n",
              "      <td>0</td>\n",
              "      <td>270336</td>\n",
              "    </tr>\n",
              "    <tr>\n",
              "      <th>1</th>\n",
              "      <td>8704</td>\n",
              "      <td>0</td>\n",
              "      <td>24124</td>\n",
              "      <td>0</td>\n",
              "      <td>205680</td>\n",
              "      <td>0</td>\n",
              "      <td>339968</td>\n",
              "    </tr>\n",
              "    <tr>\n",
              "      <th>2</th>\n",
              "      <td>4096</td>\n",
              "      <td>0</td>\n",
              "      <td>329</td>\n",
              "      <td>0</td>\n",
              "      <td>24065</td>\n",
              "      <td>0</td>\n",
              "      <td>45056</td>\n",
              "    </tr>\n",
              "    <tr>\n",
              "      <th>3</th>\n",
              "      <td>0</td>\n",
              "      <td>0</td>\n",
              "      <td>144</td>\n",
              "      <td>0</td>\n",
              "      <td>638976</td>\n",
              "      <td>0</td>\n",
              "      <td>1003520</td>\n",
              "    </tr>\n",
              "    <tr>\n",
              "      <th>4</th>\n",
              "      <td>0</td>\n",
              "      <td>0</td>\n",
              "      <td>24</td>\n",
              "      <td>0</td>\n",
              "      <td>42916</td>\n",
              "      <td>0</td>\n",
              "      <td>73728</td>\n",
              "    </tr>\n",
              "    <tr>\n",
              "      <th>...</th>\n",
              "      <td>...</td>\n",
              "      <td>...</td>\n",
              "      <td>...</td>\n",
              "      <td>...</td>\n",
              "      <td>...</td>\n",
              "      <td>...</td>\n",
              "      <td>...</td>\n",
              "    </tr>\n",
              "    <tr>\n",
              "      <th>19606</th>\n",
              "      <td>512</td>\n",
              "      <td>0</td>\n",
              "      <td>1164</td>\n",
              "      <td>0</td>\n",
              "      <td>16148</td>\n",
              "      <td>0</td>\n",
              "      <td>32768</td>\n",
              "    </tr>\n",
              "    <tr>\n",
              "      <th>19607</th>\n",
              "      <td>20992</td>\n",
              "      <td>0</td>\n",
              "      <td>33388</td>\n",
              "      <td>0</td>\n",
              "      <td>17354920</td>\n",
              "      <td>0</td>\n",
              "      <td>18821120</td>\n",
              "    </tr>\n",
              "    <tr>\n",
              "      <th>19608</th>\n",
              "      <td>8704</td>\n",
              "      <td>0</td>\n",
              "      <td>8588</td>\n",
              "      <td>0</td>\n",
              "      <td>203021</td>\n",
              "      <td>0</td>\n",
              "      <td>266240</td>\n",
              "    </tr>\n",
              "    <tr>\n",
              "      <th>19609</th>\n",
              "      <td>512</td>\n",
              "      <td>0</td>\n",
              "      <td>1724</td>\n",
              "      <td>0</td>\n",
              "      <td>262816</td>\n",
              "      <td>0</td>\n",
              "      <td>368640</td>\n",
              "    </tr>\n",
              "    <tr>\n",
              "      <th>19610</th>\n",
              "      <td>4608</td>\n",
              "      <td>0</td>\n",
              "      <td>5912</td>\n",
              "      <td>0</td>\n",
              "      <td>515848</td>\n",
              "      <td>0</td>\n",
              "      <td>577536</td>\n",
              "    </tr>\n",
              "  </tbody>\n",
              "</table>\n",
              "<p>19611 rows × 7 columns</p>\n",
              "</div>"
            ],
            "text/plain": [
              "       SectionMinRawsize  ...  SectionMaxVirtual\n",
              "0                    512  ...             270336\n",
              "1                   8704  ...             339968\n",
              "2                   4096  ...              45056\n",
              "3                      0  ...            1003520\n",
              "4                      0  ...              73728\n",
              "...                  ...  ...                ...\n",
              "19606                512  ...              32768\n",
              "19607              20992  ...           18821120\n",
              "19608               8704  ...             266240\n",
              "19609                512  ...             368640\n",
              "19610               4608  ...             577536\n",
              "\n",
              "[19611 rows x 7 columns]"
            ]
          },
          "metadata": {
            "tags": []
          },
          "execution_count": 14
        }
      ]
    },
    {
      "cell_type": "code",
      "metadata": {
        "colab": {
          "base_uri": "https://localhost:8080/",
          "height": 407
        },
        "id": "kibJZKEBeqji",
        "outputId": "76df2c59-6400-499b-9481-139784d6209d"
      },
      "source": [
        "train_data.iloc[:, 66 : 72]"
      ],
      "execution_count": null,
      "outputs": [
        {
          "output_type": "execute_result",
          "data": {
            "text/html": [
              "<div>\n",
              "<style scoped>\n",
              "    .dataframe tbody tr th:only-of-type {\n",
              "        vertical-align: middle;\n",
              "    }\n",
              "\n",
              "    .dataframe tbody tr th {\n",
              "        vertical-align: top;\n",
              "    }\n",
              "\n",
              "    .dataframe thead th {\n",
              "        text-align: right;\n",
              "    }\n",
              "</style>\n",
              "<table border=\"1\" class=\"dataframe\">\n",
              "  <thead>\n",
              "    <tr style=\"text-align: right;\">\n",
              "      <th></th>\n",
              "      <th>SectionMinVirtual</th>\n",
              "      <th>SectionMaxPointerData</th>\n",
              "      <th>SectionMinPointerData</th>\n",
              "      <th>SectionMaxChar</th>\n",
              "      <th>SectionMainChar</th>\n",
              "      <th>DirectoryEntryImport</th>\n",
              "    </tr>\n",
              "  </thead>\n",
              "  <tbody>\n",
              "    <tr>\n",
              "      <th>0</th>\n",
              "      <td>0</td>\n",
              "      <td>245248</td>\n",
              "      <td>0</td>\n",
              "      <td>3758096608</td>\n",
              "      <td>0</td>\n",
              "      <td>7</td>\n",
              "    </tr>\n",
              "    <tr>\n",
              "      <th>1</th>\n",
              "      <td>0</td>\n",
              "      <td>314880</td>\n",
              "      <td>0</td>\n",
              "      <td>3791650880</td>\n",
              "      <td>0</td>\n",
              "      <td>16</td>\n",
              "    </tr>\n",
              "    <tr>\n",
              "      <th>2</th>\n",
              "      <td>0</td>\n",
              "      <td>45056</td>\n",
              "      <td>0</td>\n",
              "      <td>3221225536</td>\n",
              "      <td>0</td>\n",
              "      <td>6</td>\n",
              "    </tr>\n",
              "    <tr>\n",
              "      <th>3</th>\n",
              "      <td>0</td>\n",
              "      <td>58880</td>\n",
              "      <td>0</td>\n",
              "      <td>3224371328</td>\n",
              "      <td>0</td>\n",
              "      <td>8</td>\n",
              "    </tr>\n",
              "    <tr>\n",
              "      <th>4</th>\n",
              "      <td>0</td>\n",
              "      <td>54784</td>\n",
              "      <td>0</td>\n",
              "      <td>3227516992</td>\n",
              "      <td>0</td>\n",
              "      <td>2</td>\n",
              "    </tr>\n",
              "    <tr>\n",
              "      <th>...</th>\n",
              "      <td>...</td>\n",
              "      <td>...</td>\n",
              "      <td>...</td>\n",
              "      <td>...</td>\n",
              "      <td>...</td>\n",
              "      <td>...</td>\n",
              "    </tr>\n",
              "    <tr>\n",
              "      <th>19606</th>\n",
              "      <td>0</td>\n",
              "      <td>23040</td>\n",
              "      <td>0</td>\n",
              "      <td>3221225536</td>\n",
              "      <td>0</td>\n",
              "      <td>8</td>\n",
              "    </tr>\n",
              "    <tr>\n",
              "      <th>19607</th>\n",
              "      <td>0</td>\n",
              "      <td>18795520</td>\n",
              "      <td>0</td>\n",
              "      <td>3221225536</td>\n",
              "      <td>0</td>\n",
              "      <td>10</td>\n",
              "    </tr>\n",
              "    <tr>\n",
              "      <th>19608</th>\n",
              "      <td>0</td>\n",
              "      <td>256000</td>\n",
              "      <td>0</td>\n",
              "      <td>3758096448</td>\n",
              "      <td>0</td>\n",
              "      <td>0</td>\n",
              "    </tr>\n",
              "    <tr>\n",
              "      <th>19609</th>\n",
              "      <td>0</td>\n",
              "      <td>355328</td>\n",
              "      <td>0</td>\n",
              "      <td>3221225536</td>\n",
              "      <td>0</td>\n",
              "      <td>12</td>\n",
              "    </tr>\n",
              "    <tr>\n",
              "      <th>19610</th>\n",
              "      <td>0</td>\n",
              "      <td>564224</td>\n",
              "      <td>0</td>\n",
              "      <td>3221225536</td>\n",
              "      <td>0</td>\n",
              "      <td>35</td>\n",
              "    </tr>\n",
              "  </tbody>\n",
              "</table>\n",
              "<p>19611 rows × 6 columns</p>\n",
              "</div>"
            ],
            "text/plain": [
              "       SectionMinVirtual  ...  DirectoryEntryImport\n",
              "0                      0  ...                     7\n",
              "1                      0  ...                    16\n",
              "2                      0  ...                     6\n",
              "3                      0  ...                     8\n",
              "4                      0  ...                     2\n",
              "...                  ...  ...                   ...\n",
              "19606                  0  ...                     8\n",
              "19607                  0  ...                    10\n",
              "19608                  0  ...                     0\n",
              "19609                  0  ...                    12\n",
              "19610                  0  ...                    35\n",
              "\n",
              "[19611 rows x 6 columns]"
            ]
          },
          "metadata": {
            "tags": []
          },
          "execution_count": 15
        }
      ]
    },
    {
      "cell_type": "code",
      "metadata": {
        "colab": {
          "base_uri": "https://localhost:8080/",
          "height": 427
        },
        "id": "WSRSeZaQewGh",
        "outputId": "6ad8370a-911a-4f42-bc72-204c6528212a"
      },
      "source": [
        "train_data.iloc[:, 72 : 80]"
      ],
      "execution_count": null,
      "outputs": [
        {
          "output_type": "execute_result",
          "data": {
            "text/html": [
              "<div>\n",
              "<style scoped>\n",
              "    .dataframe tbody tr th:only-of-type {\n",
              "        vertical-align: middle;\n",
              "    }\n",
              "\n",
              "    .dataframe tbody tr th {\n",
              "        vertical-align: top;\n",
              "    }\n",
              "\n",
              "    .dataframe thead th {\n",
              "        text-align: right;\n",
              "    }\n",
              "</style>\n",
              "<table border=\"1\" class=\"dataframe\">\n",
              "  <thead>\n",
              "    <tr style=\"text-align: right;\">\n",
              "      <th></th>\n",
              "      <th>DirectoryEntryImportSize</th>\n",
              "      <th>DirectoryEntryExport</th>\n",
              "      <th>ImageDirectoryEntryExport</th>\n",
              "      <th>ImageDirectoryEntryImport</th>\n",
              "      <th>ImageDirectoryEntryResource</th>\n",
              "      <th>ImageDirectoryEntryException</th>\n",
              "      <th>ImageDirectoryEntrySecurity</th>\n",
              "    </tr>\n",
              "  </thead>\n",
              "  <tbody>\n",
              "    <tr>\n",
              "      <th>0</th>\n",
              "      <td>152</td>\n",
              "      <td>0</td>\n",
              "      <td>0</td>\n",
              "      <td>54440</td>\n",
              "      <td>77824</td>\n",
              "      <td>73728</td>\n",
              "      <td>0</td>\n",
              "    </tr>\n",
              "    <tr>\n",
              "      <th>1</th>\n",
              "      <td>311</td>\n",
              "      <td>0</td>\n",
              "      <td>0</td>\n",
              "      <td>262276</td>\n",
              "      <td>294912</td>\n",
              "      <td>0</td>\n",
              "      <td>346112</td>\n",
              "    </tr>\n",
              "    <tr>\n",
              "      <th>2</th>\n",
              "      <td>176</td>\n",
              "      <td>0</td>\n",
              "      <td>0</td>\n",
              "      <td>36864</td>\n",
              "      <td>40960</td>\n",
              "      <td>0</td>\n",
              "      <td>0</td>\n",
              "    </tr>\n",
              "    <tr>\n",
              "      <th>3</th>\n",
              "      <td>155</td>\n",
              "      <td>0</td>\n",
              "      <td>0</td>\n",
              "      <td>356352</td>\n",
              "      <td>1003520</td>\n",
              "      <td>0</td>\n",
              "      <td>14109472</td>\n",
              "    </tr>\n",
              "    <tr>\n",
              "      <th>4</th>\n",
              "      <td>43</td>\n",
              "      <td>0</td>\n",
              "      <td>0</td>\n",
              "      <td>61440</td>\n",
              "      <td>73728</td>\n",
              "      <td>0</td>\n",
              "      <td>90624</td>\n",
              "    </tr>\n",
              "    <tr>\n",
              "      <th>...</th>\n",
              "      <td>...</td>\n",
              "      <td>...</td>\n",
              "      <td>...</td>\n",
              "      <td>...</td>\n",
              "      <td>...</td>\n",
              "      <td>...</td>\n",
              "      <td>...</td>\n",
              "    </tr>\n",
              "    <tr>\n",
              "      <th>19606</th>\n",
              "      <td>85</td>\n",
              "      <td>0</td>\n",
              "      <td>0</td>\n",
              "      <td>24948</td>\n",
              "      <td>28672</td>\n",
              "      <td>0</td>\n",
              "      <td>0</td>\n",
              "    </tr>\n",
              "    <tr>\n",
              "      <th>19607</th>\n",
              "      <td>391</td>\n",
              "      <td>0</td>\n",
              "      <td>0</td>\n",
              "      <td>1413420</td>\n",
              "      <td>1462272</td>\n",
              "      <td>0</td>\n",
              "      <td>18855424</td>\n",
              "    </tr>\n",
              "    <tr>\n",
              "      <th>19608</th>\n",
              "      <td>0</td>\n",
              "      <td>0</td>\n",
              "      <td>0</td>\n",
              "      <td>0</td>\n",
              "      <td>61440</td>\n",
              "      <td>0</td>\n",
              "      <td>0</td>\n",
              "    </tr>\n",
              "    <tr>\n",
              "      <th>19609</th>\n",
              "      <td>162</td>\n",
              "      <td>8</td>\n",
              "      <td>89008</td>\n",
              "      <td>94904</td>\n",
              "      <td>102400</td>\n",
              "      <td>0</td>\n",
              "      <td>0</td>\n",
              "    </tr>\n",
              "    <tr>\n",
              "      <th>19610</th>\n",
              "      <td>226</td>\n",
              "      <td>58</td>\n",
              "      <td>8348</td>\n",
              "      <td>545812</td>\n",
              "      <td>557056</td>\n",
              "      <td>0</td>\n",
              "      <td>0</td>\n",
              "    </tr>\n",
              "  </tbody>\n",
              "</table>\n",
              "<p>19611 rows × 7 columns</p>\n",
              "</div>"
            ],
            "text/plain": [
              "       DirectoryEntryImportSize  ...  ImageDirectoryEntrySecurity\n",
              "0                           152  ...                            0\n",
              "1                           311  ...                       346112\n",
              "2                           176  ...                            0\n",
              "3                           155  ...                     14109472\n",
              "4                            43  ...                        90624\n",
              "...                         ...  ...                          ...\n",
              "19606                        85  ...                            0\n",
              "19607                       391  ...                     18855424\n",
              "19608                         0  ...                            0\n",
              "19609                       162  ...                            0\n",
              "19610                       226  ...                            0\n",
              "\n",
              "[19611 rows x 7 columns]"
            ]
          },
          "metadata": {
            "tags": []
          },
          "execution_count": 16
        }
      ]
    },
    {
      "cell_type": "markdown",
      "metadata": {
        "id": "JhgeHZaZbiMa"
      },
      "source": [
        "# *"
      ]
    },
    {
      "cell_type": "markdown",
      "metadata": {
        "id": "d6PxrgCljgbs"
      },
      "source": [
        "## Проверим, иммеются ли пропуски."
      ]
    },
    {
      "cell_type": "code",
      "metadata": {
        "colab": {
          "base_uri": "https://localhost:8080/"
        },
        "id": "0o9i5UpBqD_l",
        "outputId": "7a54dba0-4997-402f-a905-d87fcca29d14"
      },
      "source": [
        "for col in train_data.columns:\r\n",
        "    pct_missing = np.mean(train_data[col].isnull())\r\n",
        "    print('{} - {}%'.format(col, round(pct_missing*100)))"
      ],
      "execution_count": null,
      "outputs": [
        {
          "output_type": "stream",
          "text": [
            "Name - 0%\n",
            "e_magic - 0%\n",
            "e_cblp - 0%\n",
            "e_cp - 0%\n",
            "e_crlc - 0%\n",
            "e_cparhdr - 0%\n",
            "e_minalloc - 0%\n",
            "e_maxalloc - 0%\n",
            "e_ss - 0%\n",
            "e_sp - 0%\n",
            "e_csum - 0%\n",
            "e_ip - 0%\n",
            "e_cs - 0%\n",
            "e_lfarlc - 0%\n",
            "e_ovno - 0%\n",
            "e_oemid - 0%\n",
            "e_oeminfo - 0%\n",
            "e_lfanew - 0%\n",
            "Machine - 0%\n",
            "NumberOfSections - 0%\n",
            "TimeDateStamp - 0%\n",
            "PointerToSymbolTable - 0%\n",
            "NumberOfSymbols - 0%\n",
            "SizeOfOptionalHeader - 0%\n",
            "Characteristics - 0%\n",
            "Magic - 0%\n",
            "MajorLinkerVersion - 0%\n",
            "MinorLinkerVersion - 0%\n",
            "SizeOfCode - 0%\n",
            "SizeOfInitializedData - 0%\n",
            "SizeOfUninitializedData - 0%\n",
            "AddressOfEntryPoint - 0%\n",
            "BaseOfCode - 0%\n",
            "ImageBase - 0%\n",
            "SectionAlignment - 0%\n",
            "FileAlignment - 0%\n",
            "MajorOperatingSystemVersion - 0%\n",
            "MinorOperatingSystemVersion - 0%\n",
            "MajorImageVersion - 0%\n",
            "MinorImageVersion - 0%\n",
            "MajorSubsystemVersion - 0%\n",
            "MinorSubsystemVersion - 0%\n",
            "SizeOfHeaders - 0%\n",
            "CheckSum - 0%\n",
            "SizeOfImage - 0%\n",
            "Subsystem - 0%\n",
            "DllCharacteristics - 0%\n",
            "SizeOfStackReserve - 0%\n",
            "SizeOfStackCommit - 0%\n",
            "SizeOfHeapReserve - 0%\n",
            "SizeOfHeapCommit - 0%\n",
            "LoaderFlags - 0%\n",
            "NumberOfRvaAndSizes - 0%\n",
            "Malware - 0%\n",
            "SuspiciousImportFunctions - 0%\n",
            "SuspiciousNameSection - 0%\n",
            "SectionsLength - 0%\n",
            "SectionMinEntropy - 0%\n",
            "SectionMaxEntropy - 0%\n",
            "SectionMinRawsize - 0%\n",
            "SectionMaxRawsize - 0%\n",
            "SectionMinVirtualsize - 0%\n",
            "SectionMaxVirtualsize - 0%\n",
            "SectionMaxPhysical - 0%\n",
            "SectionMinPhysical - 0%\n",
            "SectionMaxVirtual - 0%\n",
            "SectionMinVirtual - 0%\n",
            "SectionMaxPointerData - 0%\n",
            "SectionMinPointerData - 0%\n",
            "SectionMaxChar - 0%\n",
            "SectionMainChar - 0%\n",
            "DirectoryEntryImport - 0%\n",
            "DirectoryEntryImportSize - 0%\n",
            "DirectoryEntryExport - 0%\n",
            "ImageDirectoryEntryExport - 0%\n",
            "ImageDirectoryEntryImport - 0%\n",
            "ImageDirectoryEntryResource - 0%\n",
            "ImageDirectoryEntryException - 0%\n",
            "ImageDirectoryEntrySecurity - 0%\n",
            "num_missing - 0%\n"
          ],
          "name": "stdout"
        }
      ]
    },
    {
      "cell_type": "code",
      "metadata": {
        "colab": {
          "base_uri": "https://localhost:8080/"
        },
        "id": "T6AK2rSAhEMT",
        "outputId": "5bae6afe-bdb0-4bd3-90bc-5b9320e8035b"
      },
      "source": [
        "train_data.isnull().sum()[: 41]"
      ],
      "execution_count": null,
      "outputs": [
        {
          "output_type": "execute_result",
          "data": {
            "text/plain": [
              "Name                           0\n",
              "e_magic                        0\n",
              "e_cblp                         0\n",
              "e_cp                           0\n",
              "e_crlc                         0\n",
              "e_cparhdr                      0\n",
              "e_minalloc                     0\n",
              "e_maxalloc                     0\n",
              "e_ss                           0\n",
              "e_sp                           0\n",
              "e_csum                         0\n",
              "e_ip                           0\n",
              "e_cs                           0\n",
              "e_lfarlc                       0\n",
              "e_ovno                         0\n",
              "e_oemid                        0\n",
              "e_oeminfo                      0\n",
              "e_lfanew                       0\n",
              "Machine                        0\n",
              "NumberOfSections               0\n",
              "TimeDateStamp                  0\n",
              "PointerToSymbolTable           0\n",
              "NumberOfSymbols                0\n",
              "SizeOfOptionalHeader           0\n",
              "Characteristics                0\n",
              "Magic                          0\n",
              "MajorLinkerVersion             0\n",
              "MinorLinkerVersion             0\n",
              "SizeOfCode                     0\n",
              "SizeOfInitializedData          0\n",
              "SizeOfUninitializedData        0\n",
              "AddressOfEntryPoint            0\n",
              "BaseOfCode                     0\n",
              "ImageBase                      0\n",
              "SectionAlignment               0\n",
              "FileAlignment                  0\n",
              "MajorOperatingSystemVersion    0\n",
              "MinorOperatingSystemVersion    0\n",
              "MajorImageVersion              0\n",
              "MinorImageVersion              0\n",
              "MajorSubsystemVersion          0\n",
              "dtype: int64"
            ]
          },
          "metadata": {
            "tags": []
          },
          "execution_count": 6
        }
      ]
    },
    {
      "cell_type": "code",
      "metadata": {
        "colab": {
          "base_uri": "https://localhost:8080/"
        },
        "id": "w22xvKH1cHVK",
        "outputId": "a5a787a6-a57a-45bc-c44a-1851c1646074"
      },
      "source": [
        "train_data.isnull().sum()[41 : ]"
      ],
      "execution_count": null,
      "outputs": [
        {
          "output_type": "execute_result",
          "data": {
            "text/plain": [
              "MinorSubsystemVersion           0\n",
              "SizeOfHeaders                   0\n",
              "CheckSum                        0\n",
              "SizeOfImage                     0\n",
              "Subsystem                       0\n",
              "DllCharacteristics              0\n",
              "SizeOfStackReserve              0\n",
              "SizeOfStackCommit               0\n",
              "SizeOfHeapReserve               0\n",
              "SizeOfHeapCommit                0\n",
              "LoaderFlags                     0\n",
              "NumberOfRvaAndSizes             0\n",
              "Malware                         0\n",
              "SuspiciousImportFunctions       0\n",
              "SuspiciousNameSection           0\n",
              "SectionsLength                  0\n",
              "SectionMinEntropy               0\n",
              "SectionMaxEntropy               0\n",
              "SectionMinRawsize               0\n",
              "SectionMaxRawsize               0\n",
              "SectionMinVirtualsize           0\n",
              "SectionMaxVirtualsize           0\n",
              "SectionMaxPhysical              0\n",
              "SectionMinPhysical              0\n",
              "SectionMaxVirtual               0\n",
              "SectionMinVirtual               0\n",
              "SectionMaxPointerData           0\n",
              "SectionMinPointerData           0\n",
              "SectionMaxChar                  0\n",
              "SectionMainChar                 0\n",
              "DirectoryEntryImport            0\n",
              "DirectoryEntryImportSize        0\n",
              "DirectoryEntryExport            0\n",
              "ImageDirectoryEntryExport       0\n",
              "ImageDirectoryEntryImport       0\n",
              "ImageDirectoryEntryResource     0\n",
              "ImageDirectoryEntryException    0\n",
              "ImageDirectoryEntrySecurity     0\n",
              "dtype: int64"
            ]
          },
          "metadata": {
            "tags": []
          },
          "execution_count": 19
        }
      ]
    },
    {
      "cell_type": "markdown",
      "metadata": {
        "id": "YK8FJrbxcMz1"
      },
      "source": [
        "### Пропусков нет"
      ]
    },
    {
      "cell_type": "markdown",
      "metadata": {
        "id": "-EqeweUh0D82"
      },
      "source": [
        "# Вся информация, поступающая в модель, должна служить целям проекта. Если она не добавляет никакой ценности, от нее следует избавиться."
      ]
    },
    {
      "cell_type": "markdown",
      "metadata": {
        "id": "QZBve3h10D83"
      },
      "source": [
        "##Неинформативные признаки\r\n",
        "Если признак имеет слишком много строк с одинаковыми значениями, он не несет полезной информации для проекта. Следовательно обнаружим их и удалим."
      ]
    },
    {
      "cell_type": "code",
      "metadata": {
        "id": "uQjZh3zt0D83"
      },
      "source": [
        "num_rows = len(train_data.index)\r\n",
        "low_information_cols = [] \r\n",
        "\r\n",
        "for col in train_data.columns:\r\n",
        "    cnts = train_data[col].value_counts(dropna=False)\r\n",
        "    top_pct = (cnts / num_rows).iloc[0]\r\n",
        "    \r\n",
        "    if top_pct > 0.95:\r\n",
        "        low_information_cols.append(col)       "
      ],
      "execution_count": null,
      "outputs": []
    },
    {
      "cell_type": "markdown",
      "metadata": {
        "id": "datnOaWx0D86"
      },
      "source": [
        "Признаки имеющие большой процент повторяющих значений."
      ]
    },
    {
      "cell_type": "code",
      "metadata": {
        "colab": {
          "base_uri": "https://localhost:8080/"
        },
        "id": "HbqXULGJ0D87",
        "outputId": "b9f6a819-321d-428e-81b1-defb133095da"
      },
      "source": [
        "low_information_cols"
      ],
      "execution_count": null,
      "outputs": [
        {
          "output_type": "execute_result",
          "data": {
            "text/plain": [
              "['e_magic',\n",
              " 'e_crlc',\n",
              " 'e_cparhdr',\n",
              " 'e_maxalloc',\n",
              " 'e_ss',\n",
              " 'e_sp',\n",
              " 'e_csum',\n",
              " 'e_ip',\n",
              " 'e_cs',\n",
              " 'e_lfarlc',\n",
              " 'e_oemid',\n",
              " 'e_oeminfo',\n",
              " 'PointerToSymbolTable',\n",
              " 'NumberOfSymbols',\n",
              " 'SizeOfHeapReserve',\n",
              " 'SizeOfHeapCommit',\n",
              " 'LoaderFlags',\n",
              " 'NumberOfRvaAndSizes',\n",
              " 'SuspiciousNameSection',\n",
              " 'SectionMaxEntropy',\n",
              " 'SectionMaxRawsize',\n",
              " 'SectionMaxVirtualsize',\n",
              " 'SectionMinPhysical',\n",
              " 'SectionMinVirtual',\n",
              " 'SectionMinPointerData',\n",
              " 'SectionMainChar']"
            ]
          },
          "metadata": {
            "tags": []
          },
          "execution_count": 8
        }
      ]
    },
    {
      "cell_type": "markdown",
      "metadata": {
        "id": "3cYrMxOR0dnR"
      },
      "source": [
        "Удалим эти признаки."
      ]
    },
    {
      "cell_type": "code",
      "metadata": {
        "id": "751KSQXk0c93"
      },
      "source": [
        "train_data = train_data.drop(low_information_cols, axis=1)"
      ],
      "execution_count": null,
      "outputs": []
    },
    {
      "cell_type": "markdown",
      "metadata": {
        "id": "4g0AiH1QCJFD"
      },
      "source": [
        "## Обучим и проверим качество модели на всех начальных признаках."
      ]
    },
    {
      "cell_type": "markdown",
      "metadata": {
        "id": "g125HJiYcbFh"
      },
      "source": [
        "Модель машинного обучения: Decision Tree"
      ]
    },
    {
      "cell_type": "code",
      "metadata": {
        "id": "p29MYSFeCIeM"
      },
      "source": [
        "y_, X_ = train_data.Malware, train_data.drop(['Name', 'Malware'], axis=1)"
      ],
      "execution_count": null,
      "outputs": []
    },
    {
      "cell_type": "code",
      "metadata": {
        "id": "criD3J0TCIbZ"
      },
      "source": [
        "X_train_, X_test_, y_train_, y_test_ = train_test_split(X_, y_, test_size=0.33, random_state=42)\r\n",
        "\r\n",
        "sc = StandardScaler()\r\n",
        "\r\n",
        "X_train_, X_test_ = sc.fit_transform(X_train_), sc.transform(X_test_)"
      ],
      "execution_count": null,
      "outputs": []
    },
    {
      "cell_type": "code",
      "metadata": {
        "id": "bSyC03nIDur7"
      },
      "source": [
        "decision_tree = DecisionTreeClassifier()\r\n",
        "\r\n",
        "parametrs = { 'criterion' : ('gini', 'entropy'),\r\n",
        "              'splitter': ['best', 'random'],\r\n",
        "              'min_weight_fraction_leaf': [0 + i * 0.01 for i in range(0, 51)],\r\n",
        "              'max_features': ['sqrt', 'log2'],\r\n",
        "              'max_depth': range(1, 20)}\r\n",
        "\r\n",
        "grid = GridSearchCV(decision_tree, parametrs, cv=5)\r\n",
        "grid.fit(X_train_, np.ravel(y_train_))"
      ],
      "execution_count": null,
      "outputs": []
    },
    {
      "cell_type": "code",
      "metadata": {
        "id": "sL3xsRzjCIVn"
      },
      "source": [
        "grid.best_params_"
      ],
      "execution_count": null,
      "outputs": []
    },
    {
      "cell_type": "code",
      "metadata": {
        "colab": {
          "base_uri": "https://localhost:8080/",
          "height": 461
        },
        "id": "cKp0QXX5CISU",
        "outputId": "c3e428b4-bd05-41ce-a297-ad1ab3d4af31"
      },
      "source": [
        "decision_tree = DecisionTreeClassifier(criterion='entropy', splitter='best', max_features='sqrt', max_depth=10)\r\n",
        "\r\n",
        "decision_tree.fit(X_train_, y_train_)\r\n",
        "y_pred_ = decision_tree.predict(X_test_)\r\n",
        "\r\n",
        "print(classification_report(y_test_, y_pred_, target_names=['Benign', 'Malware']))\r\n",
        "\r\n",
        "ax = sns.heatmap(confusion_matrix(y_pred_, y_test_), annot=True, fmt=\"d\", cmap=plt.cm.Blues, cbar=False)\r\n",
        "ax.set_xlabel('Predicted labels')\r\n",
        "ax.set_ylabel('True labels')"
      ],
      "execution_count": null,
      "outputs": [
        {
          "output_type": "stream",
          "text": [
            "              precision    recall  f1-score   support\n",
            "\n",
            "      Benign       0.98      0.94      0.96      1668\n",
            "     Malware       0.98      0.99      0.99      4804\n",
            "\n",
            "    accuracy                           0.98      6472\n",
            "   macro avg       0.98      0.97      0.97      6472\n",
            "weighted avg       0.98      0.98      0.98      6472\n",
            "\n"
          ],
          "name": "stdout"
        },
        {
          "output_type": "execute_result",
          "data": {
            "text/plain": [
              "Text(33.0, 0.5, 'True labels')"
            ]
          },
          "metadata": {
            "tags": []
          },
          "execution_count": 13
        },
        {
          "output_type": "display_data",
          "data": {
            "image/png": "[encoded data removed]",
            "text/plain": [
              "<Figure size 432x288 with 1 Axes>"
            ]
          },
          "metadata": {
            "tags": []
          }
        }
      ]
    },
    {
      "cell_type": "markdown",
      "metadata": {
        "id": "NnRKioxuqzhg"
      },
      "source": [
        "### Видим, что точность приемлема, но возможно можно и лучше, т.к на кону безопасность нашего компьютера."
      ]
    },
    {
      "cell_type": "markdown",
      "metadata": {
        "id": "ehxqId51gJPr"
      },
      "source": [
        "## Отберем информативные признаки."
      ]
    },
    {
      "cell_type": "code",
      "metadata": {
        "colab": {
          "base_uri": "https://localhost:8080/",
          "height": 1000
        },
        "id": "BaDzJQoEg_D3",
        "outputId": "21e1aa54-20f3-4683-acfa-8b035224a5f7"
      },
      "source": [
        "y, X = pd.DataFrame(train_data.Malware), train_data.drop(['Malware', 'Name'], axis=1)\r\n",
        "\r\n",
        "Mass_X = pd.DataFrame()\r\n",
        "\r\n",
        "forest = ExtraTreesClassifier(n_estimators=250,\r\n",
        "                              random_state=0)\r\n",
        "\r\n",
        "forest.fit(X, y)\r\n",
        "importances = forest.feature_importances_\r\n",
        "std = np.std([tree.feature_importances_ for tree in forest.estimators_],\r\n",
        "             axis=0)\r\n",
        "indices = np.argsort(importances)[::-1]\r\n",
        "indices_1 = np.array([], dtype=int)\r\n",
        "\r\n",
        "\r\n",
        "print(\"Feature ranking:\")\r\n",
        "for f in range(X.shape[1]):\r\n",
        "    print(\"%d. feature %d (%f)\" % (f, indices[f], importances[indices[f]]))\r\n",
        "    indices_1 = np.append(indices_1, indices[f])\r\n",
        "    \r\n",
        "\r\n",
        "    \r\n",
        "plt.figure(figsize=(10, 10))\r\n",
        "plt.bar(range(len(indices_1)), importances[indices_1], color=\"r\", align=\"center\",)\r\n",
        "plt.show()\r\n",
        "\r\n",
        "data = train_data[train_data.columns[indices_1]]\r\n",
        "data['Malware'] = train_data.Malware"
      ],
      "execution_count": null,
      "outputs": [
        {
          "output_type": "stream",
          "text": [
            "/usr/local/lib/python3.6/dist-packages/ipykernel_launcher.py:8: DataConversionWarning:\n",
            "\n",
            "A column-vector y was passed when a 1d array was expected. Please change the shape of y to (n_samples,), for example using ravel().\n",
            "\n"
          ],
          "name": "stderr"
        },
        {
          "output_type": "stream",
          "text": [
            "Feature ranking:\n",
            "0. feature 39 (0.122400)\n",
            "1. feature 23 (0.120499)\n",
            "2. feature 44 (0.066306)\n",
            "3. feature 67 (0.062783)\n",
            "4. feature 32 (0.057379)\n",
            "5. feature 40 (0.053326)\n",
            "6. feature 45 (0.046729)\n",
            "7. feature 36 (0.040475)\n",
            "8. feature 46 (0.030652)\n",
            "9. feature 35 (0.030538)\n",
            "10. feature 24 (0.028126)\n",
            "11. feature 25 (0.023589)\n",
            "12. feature 19 (0.023547)\n",
            "13. feature 17 (0.019307)\n",
            "14. feature 34 (0.018798)\n",
            "15. feature 55 (0.017866)\n",
            "16. feature 6 (0.017411)\n",
            "17. feature 33 (0.016079)\n",
            "18. feature 52 (0.014452)\n",
            "19. feature 69 (0.012725)\n",
            "20. feature 41 (0.010704)\n",
            "21. feature 16 (0.010577)\n",
            "22. feature 42 (0.010518)\n",
            "23. feature 22 (0.010111)\n",
            "24. feature 37 (0.009715)\n",
            "25. feature 54 (0.009583)\n",
            "26. feature 38 (0.008705)\n",
            "27. feature 18 (0.007677)\n",
            "28. feature 76 (0.007565)\n",
            "29. feature 26 (0.006900)\n",
            "30. feature 71 (0.005853)\n",
            "31. feature 65 (0.005810)\n",
            "32. feature 70 (0.005515)\n",
            "33. feature 28 (0.004947)\n",
            "34. feature 59 (0.004772)\n",
            "35. feature 48 (0.004288)\n",
            "36. feature 30 (0.004101)\n",
            "37. feature 57 (0.004071)\n",
            "38. feature 27 (0.003739)\n",
            "39. feature 43 (0.003588)\n",
            "40. feature 61 (0.003586)\n",
            "41. feature 74 (0.003247)\n",
            "42. feature 63 (0.003115)\n",
            "43. feature 73 (0.003046)\n",
            "44. feature 47 (0.002845)\n",
            "45. feature 5 (0.002589)\n",
            "46. feature 49 (0.002519)\n",
            "47. feature 4 (0.002253)\n",
            "48. feature 1 (0.001839)\n",
            "49. feature 72 (0.001826)\n",
            "50. feature 8 (0.001709)\n",
            "51. feature 2 (0.001704)\n",
            "52. feature 13 (0.001654)\n",
            "53. feature 53 (0.001106)\n",
            "54. feature 31 (0.001012)\n",
            "55. feature 29 (0.000785)\n",
            "56. feature 14 (0.000683)\n",
            "57. feature 15 (0.000612)\n",
            "58. feature 75 (0.000500)\n",
            "59. feature 10 (0.000380)\n",
            "60. feature 20 (0.000313)\n",
            "61. feature 21 (0.000301)\n",
            "62. feature 12 (0.000280)\n",
            "63. feature 11 (0.000190)\n",
            "64. feature 3 (0.000062)\n",
            "65. feature 9 (0.000050)\n",
            "66. feature 51 (0.000048)\n",
            "67. feature 50 (0.000012)\n",
            "68. feature 7 (0.000007)\n",
            "69. feature 77 (0.000000)\n",
            "70. feature 56 (0.000000)\n",
            "71. feature 58 (0.000000)\n",
            "72. feature 60 (0.000000)\n",
            "73. feature 62 (0.000000)\n",
            "74. feature 64 (0.000000)\n",
            "75. feature 66 (0.000000)\n",
            "76. feature 68 (0.000000)\n",
            "77. feature 0 (0.000000)\n"
          ],
          "name": "stdout"
        },
        {
          "output_type": "display_data",
          "data": {
            "image/png": "[encoded data removed]",
            "text/plain": [
              "<Figure size 720x720 with 1 Axes>"
            ]
          },
          "metadata": {
            "tags": []
          }
        },
        {
          "output_type": "stream",
          "text": [
            "/usr/local/lib/python3.6/dist-packages/ipykernel_launcher.py:28: SettingWithCopyWarning:\n",
            "\n",
            "\n",
            "A value is trying to be set on a copy of a slice from a DataFrame.\n",
            "Try using .loc[row_indexer,col_indexer] = value instead\n",
            "\n",
            "See the caveats in the documentation: https://pandas.pydata.org/pandas-docs/stable/user_guide/indexing.html#returning-a-view-versus-a-copy\n",
            "\n"
          ],
          "name": "stderr"
        }
      ]
    },
    {
      "cell_type": "markdown",
      "metadata": {
        "id": "h6cVrGtW19Tp"
      },
      "source": [
        "## DataFrame с которым мы будем дальше работать."
      ]
    },
    {
      "cell_type": "code",
      "metadata": {
        "colab": {
          "base_uri": "https://localhost:8080/",
          "height": 427
        },
        "id": "5h7mTNVi1Wos",
        "outputId": "ca792f4b-d254-4dc3-8f59-f72b0f86c2ee"
      },
      "source": [
        "data"
      ],
      "execution_count": null,
      "outputs": [
        {
          "output_type": "execute_result",
          "data": {
            "text/html": [
              "<div>\n",
              "<style scoped>\n",
              "    .dataframe tbody tr th:only-of-type {\n",
              "        vertical-align: middle;\n",
              "    }\n",
              "\n",
              "    .dataframe tbody tr th {\n",
              "        vertical-align: top;\n",
              "    }\n",
              "\n",
              "    .dataframe thead th {\n",
              "        text-align: right;\n",
              "    }\n",
              "</style>\n",
              "<table border=\"1\" class=\"dataframe\">\n",
              "  <thead>\n",
              "    <tr style=\"text-align: right;\">\n",
              "      <th></th>\n",
              "      <th>SizeOfOptionalHeader</th>\n",
              "      <th>MinorImageVersion</th>\n",
              "      <th>SizeOfImage</th>\n",
              "      <th>SectionMaxVirtual</th>\n",
              "      <th>BaseOfCode</th>\n",
              "      <th>MajorSubsystemVersion</th>\n",
              "      <th>Subsystem</th>\n",
              "      <th>DllCharacteristics</th>\n",
              "      <th>MajorOperatingSystemVersion</th>\n",
              "      <th>e_lfanew</th>\n",
              "      <th>Characteristics</th>\n",
              "      <th>FileAlignment</th>\n",
              "      <th>Magic</th>\n",
              "      <th>NumberOfSections</th>\n",
              "      <th>SectionAlignment</th>\n",
              "      <th>SuspiciousImportFunctions</th>\n",
              "      <th>ImageBase</th>\n",
              "      <th>SizeOfStackCommit</th>\n",
              "      <th>SectionMaxPointerData</th>\n",
              "      <th>MinorSubsystemVersion</th>\n",
              "      <th>Malware</th>\n",
              "    </tr>\n",
              "  </thead>\n",
              "  <tbody>\n",
              "    <tr>\n",
              "      <th>0</th>\n",
              "      <td>240</td>\n",
              "      <td>0</td>\n",
              "      <td>274432</td>\n",
              "      <td>270336</td>\n",
              "      <td>4096</td>\n",
              "      <td>5</td>\n",
              "      <td>2</td>\n",
              "      <td>32832</td>\n",
              "      <td>6</td>\n",
              "      <td>248</td>\n",
              "      <td>34</td>\n",
              "      <td>512</td>\n",
              "      <td>523</td>\n",
              "      <td>6</td>\n",
              "      <td>4096</td>\n",
              "      <td>0</td>\n",
              "      <td>4294967296</td>\n",
              "      <td>8192</td>\n",
              "      <td>245248</td>\n",
              "      <td>2</td>\n",
              "      <td>1</td>\n",
              "    </tr>\n",
              "    <tr>\n",
              "      <th>1</th>\n",
              "      <td>224</td>\n",
              "      <td>0</td>\n",
              "      <td>442368</td>\n",
              "      <td>339968</td>\n",
              "      <td>4096</td>\n",
              "      <td>5</td>\n",
              "      <td>2</td>\n",
              "      <td>33088</td>\n",
              "      <td>5</td>\n",
              "      <td>240</td>\n",
              "      <td>258</td>\n",
              "      <td>512</td>\n",
              "      <td>267</td>\n",
              "      <td>5</td>\n",
              "      <td>4096</td>\n",
              "      <td>0</td>\n",
              "      <td>4194304</td>\n",
              "      <td>4096</td>\n",
              "      <td>314880</td>\n",
              "      <td>0</td>\n",
              "      <td>1</td>\n",
              "    </tr>\n",
              "    <tr>\n",
              "      <th>2</th>\n",
              "      <td>224</td>\n",
              "      <td>0</td>\n",
              "      <td>49152</td>\n",
              "      <td>45056</td>\n",
              "      <td>256</td>\n",
              "      <td>4</td>\n",
              "      <td>2</td>\n",
              "      <td>0</td>\n",
              "      <td>4</td>\n",
              "      <td>256</td>\n",
              "      <td>14</td>\n",
              "      <td>4096</td>\n",
              "      <td>267</td>\n",
              "      <td>6</td>\n",
              "      <td>4096</td>\n",
              "      <td>0</td>\n",
              "      <td>4194304</td>\n",
              "      <td>4096</td>\n",
              "      <td>45056</td>\n",
              "      <td>0</td>\n",
              "      <td>1</td>\n",
              "    </tr>\n",
              "    <tr>\n",
              "      <th>3</th>\n",
              "      <td>224</td>\n",
              "      <td>0</td>\n",
              "      <td>1032192</td>\n",
              "      <td>1003520</td>\n",
              "      <td>4096</td>\n",
              "      <td>4</td>\n",
              "      <td>2</td>\n",
              "      <td>32768</td>\n",
              "      <td>4</td>\n",
              "      <td>128</td>\n",
              "      <td>783</td>\n",
              "      <td>512</td>\n",
              "      <td>267</td>\n",
              "      <td>7</td>\n",
              "      <td>4096</td>\n",
              "      <td>14</td>\n",
              "      <td>4194304</td>\n",
              "      <td>4096</td>\n",
              "      <td>58880</td>\n",
              "      <td>0</td>\n",
              "      <td>1</td>\n",
              "    </tr>\n",
              "    <tr>\n",
              "      <th>4</th>\n",
              "      <td>224</td>\n",
              "      <td>0</td>\n",
              "      <td>110592</td>\n",
              "      <td>73728</td>\n",
              "      <td>4096</td>\n",
              "      <td>4</td>\n",
              "      <td>2</td>\n",
              "      <td>0</td>\n",
              "      <td>4</td>\n",
              "      <td>128</td>\n",
              "      <td>783</td>\n",
              "      <td>512</td>\n",
              "      <td>267</td>\n",
              "      <td>7</td>\n",
              "      <td>4096</td>\n",
              "      <td>2</td>\n",
              "      <td>4194304</td>\n",
              "      <td>4096</td>\n",
              "      <td>54784</td>\n",
              "      <td>0</td>\n",
              "      <td>1</td>\n",
              "    </tr>\n",
              "    <tr>\n",
              "      <th>...</th>\n",
              "      <td>...</td>\n",
              "      <td>...</td>\n",
              "      <td>...</td>\n",
              "      <td>...</td>\n",
              "      <td>...</td>\n",
              "      <td>...</td>\n",
              "      <td>...</td>\n",
              "      <td>...</td>\n",
              "      <td>...</td>\n",
              "      <td>...</td>\n",
              "      <td>...</td>\n",
              "      <td>...</td>\n",
              "      <td>...</td>\n",
              "      <td>...</td>\n",
              "      <td>...</td>\n",
              "      <td>...</td>\n",
              "      <td>...</td>\n",
              "      <td>...</td>\n",
              "      <td>...</td>\n",
              "      <td>...</td>\n",
              "      <td>...</td>\n",
              "    </tr>\n",
              "    <tr>\n",
              "      <th>19606</th>\n",
              "      <td>224</td>\n",
              "      <td>3</td>\n",
              "      <td>36864</td>\n",
              "      <td>32768</td>\n",
              "      <td>4096</td>\n",
              "      <td>6</td>\n",
              "      <td>3</td>\n",
              "      <td>33088</td>\n",
              "      <td>6</td>\n",
              "      <td>240</td>\n",
              "      <td>258</td>\n",
              "      <td>512</td>\n",
              "      <td>267</td>\n",
              "      <td>5</td>\n",
              "      <td>4096</td>\n",
              "      <td>3</td>\n",
              "      <td>4194304</td>\n",
              "      <td>8192</td>\n",
              "      <td>23040</td>\n",
              "      <td>3</td>\n",
              "      <td>0</td>\n",
              "    </tr>\n",
              "    <tr>\n",
              "      <th>19607</th>\n",
              "      <td>224</td>\n",
              "      <td>0</td>\n",
              "      <td>18882560</td>\n",
              "      <td>18821120</td>\n",
              "      <td>4096</td>\n",
              "      <td>5</td>\n",
              "      <td>2</td>\n",
              "      <td>33088</td>\n",
              "      <td>5</td>\n",
              "      <td>264</td>\n",
              "      <td>258</td>\n",
              "      <td>512</td>\n",
              "      <td>267</td>\n",
              "      <td>5</td>\n",
              "      <td>4096</td>\n",
              "      <td>25</td>\n",
              "      <td>4194304</td>\n",
              "      <td>4096</td>\n",
              "      <td>18795520</td>\n",
              "      <td>1</td>\n",
              "      <td>0</td>\n",
              "    </tr>\n",
              "    <tr>\n",
              "      <th>19608</th>\n",
              "      <td>224</td>\n",
              "      <td>0</td>\n",
              "      <td>278528</td>\n",
              "      <td>266240</td>\n",
              "      <td>0</td>\n",
              "      <td>5</td>\n",
              "      <td>3</td>\n",
              "      <td>34112</td>\n",
              "      <td>5</td>\n",
              "      <td>128</td>\n",
              "      <td>8450</td>\n",
              "      <td>512</td>\n",
              "      <td>267</td>\n",
              "      <td>4</td>\n",
              "      <td>4096</td>\n",
              "      <td>0</td>\n",
              "      <td>268435456</td>\n",
              "      <td>0</td>\n",
              "      <td>256000</td>\n",
              "      <td>0</td>\n",
              "      <td>0</td>\n",
              "    </tr>\n",
              "    <tr>\n",
              "      <th>19609</th>\n",
              "      <td>224</td>\n",
              "      <td>3</td>\n",
              "      <td>376832</td>\n",
              "      <td>368640</td>\n",
              "      <td>4096</td>\n",
              "      <td>6</td>\n",
              "      <td>2</td>\n",
              "      <td>320</td>\n",
              "      <td>6</td>\n",
              "      <td>224</td>\n",
              "      <td>8450</td>\n",
              "      <td>512</td>\n",
              "      <td>267</td>\n",
              "      <td>5</td>\n",
              "      <td>4096</td>\n",
              "      <td>0</td>\n",
              "      <td>268435456</td>\n",
              "      <td>4096</td>\n",
              "      <td>355328</td>\n",
              "      <td>3</td>\n",
              "      <td>0</td>\n",
              "    </tr>\n",
              "    <tr>\n",
              "      <th>19610</th>\n",
              "      <td>224</td>\n",
              "      <td>3</td>\n",
              "      <td>606208</td>\n",
              "      <td>577536</td>\n",
              "      <td>4096</td>\n",
              "      <td>6</td>\n",
              "      <td>2</td>\n",
              "      <td>320</td>\n",
              "      <td>6</td>\n",
              "      <td>240</td>\n",
              "      <td>8450</td>\n",
              "      <td>512</td>\n",
              "      <td>267</td>\n",
              "      <td>6</td>\n",
              "      <td>4096</td>\n",
              "      <td>10</td>\n",
              "      <td>1980235776</td>\n",
              "      <td>4096</td>\n",
              "      <td>564224</td>\n",
              "      <td>3</td>\n",
              "      <td>0</td>\n",
              "    </tr>\n",
              "  </tbody>\n",
              "</table>\n",
              "<p>19611 rows × 21 columns</p>\n",
              "</div>"
            ],
            "text/plain": [
              "       SizeOfOptionalHeader  MinorImageVersion  ...  MinorSubsystemVersion  Malware\n",
              "0                       240                  0  ...                      2        1\n",
              "1                       224                  0  ...                      0        1\n",
              "2                       224                  0  ...                      0        1\n",
              "3                       224                  0  ...                      0        1\n",
              "4                       224                  0  ...                      0        1\n",
              "...                     ...                ...  ...                    ...      ...\n",
              "19606                   224                  3  ...                      3        0\n",
              "19607                   224                  0  ...                      1        0\n",
              "19608                   224                  0  ...                      0        0\n",
              "19609                   224                  3  ...                      3        0\n",
              "19610                   224                  3  ...                      3        0\n",
              "\n",
              "[19611 rows x 21 columns]"
            ]
          },
          "metadata": {
            "tags": []
          },
          "execution_count": 15
        }
      ]
    },
    {
      "cell_type": "markdown",
      "metadata": {
        "id": "XD229JxoCS_q"
      },
      "source": [
        "## Статистика по признакам"
      ]
    },
    {
      "cell_type": "code",
      "metadata": {
        "colab": {
          "base_uri": "https://localhost:8080/",
          "height": 427
        },
        "id": "-yXBgjB4GSgf",
        "outputId": "162fc10c-7588-4e9b-fa8e-6e4d1f21574f"
      },
      "source": [
        "data"
      ],
      "execution_count": null,
      "outputs": [
        {
          "output_type": "execute_result",
          "data": {
            "text/html": [
              "<div>\n",
              "<style scoped>\n",
              "    .dataframe tbody tr th:only-of-type {\n",
              "        vertical-align: middle;\n",
              "    }\n",
              "\n",
              "    .dataframe tbody tr th {\n",
              "        vertical-align: top;\n",
              "    }\n",
              "\n",
              "    .dataframe thead th {\n",
              "        text-align: right;\n",
              "    }\n",
              "</style>\n",
              "<table border=\"1\" class=\"dataframe\">\n",
              "  <thead>\n",
              "    <tr style=\"text-align: right;\">\n",
              "      <th></th>\n",
              "      <th>SizeOfOptionalHeader</th>\n",
              "      <th>MinorImageVersion</th>\n",
              "      <th>SizeOfImage</th>\n",
              "      <th>SectionMaxVirtual</th>\n",
              "      <th>BaseOfCode</th>\n",
              "      <th>MajorSubsystemVersion</th>\n",
              "      <th>Subsystem</th>\n",
              "      <th>DllCharacteristics</th>\n",
              "      <th>MajorOperatingSystemVersion</th>\n",
              "      <th>e_lfanew</th>\n",
              "      <th>Characteristics</th>\n",
              "      <th>FileAlignment</th>\n",
              "      <th>Magic</th>\n",
              "      <th>NumberOfSections</th>\n",
              "      <th>SectionAlignment</th>\n",
              "      <th>SuspiciousImportFunctions</th>\n",
              "      <th>ImageBase</th>\n",
              "      <th>SizeOfStackCommit</th>\n",
              "      <th>SectionMaxPointerData</th>\n",
              "      <th>MinorSubsystemVersion</th>\n",
              "      <th>Malware</th>\n",
              "    </tr>\n",
              "  </thead>\n",
              "  <tbody>\n",
              "    <tr>\n",
              "      <th>0</th>\n",
              "      <td>240</td>\n",
              "      <td>0</td>\n",
              "      <td>274432</td>\n",
              "      <td>270336</td>\n",
              "      <td>4096</td>\n",
              "      <td>5</td>\n",
              "      <td>2</td>\n",
              "      <td>32832</td>\n",
              "      <td>6</td>\n",
              "      <td>248</td>\n",
              "      <td>34</td>\n",
              "      <td>512</td>\n",
              "      <td>523</td>\n",
              "      <td>6</td>\n",
              "      <td>4096</td>\n",
              "      <td>0</td>\n",
              "      <td>4294967296</td>\n",
              "      <td>8192</td>\n",
              "      <td>245248</td>\n",
              "      <td>2</td>\n",
              "      <td>1</td>\n",
              "    </tr>\n",
              "    <tr>\n",
              "      <th>1</th>\n",
              "      <td>224</td>\n",
              "      <td>0</td>\n",
              "      <td>442368</td>\n",
              "      <td>339968</td>\n",
              "      <td>4096</td>\n",
              "      <td>5</td>\n",
              "      <td>2</td>\n",
              "      <td>33088</td>\n",
              "      <td>5</td>\n",
              "      <td>240</td>\n",
              "      <td>258</td>\n",
              "      <td>512</td>\n",
              "      <td>267</td>\n",
              "      <td>5</td>\n",
              "      <td>4096</td>\n",
              "      <td>0</td>\n",
              "      <td>4194304</td>\n",
              "      <td>4096</td>\n",
              "      <td>314880</td>\n",
              "      <td>0</td>\n",
              "      <td>1</td>\n",
              "    </tr>\n",
              "    <tr>\n",
              "      <th>2</th>\n",
              "      <td>224</td>\n",
              "      <td>0</td>\n",
              "      <td>49152</td>\n",
              "      <td>45056</td>\n",
              "      <td>256</td>\n",
              "      <td>4</td>\n",
              "      <td>2</td>\n",
              "      <td>0</td>\n",
              "      <td>4</td>\n",
              "      <td>256</td>\n",
              "      <td>14</td>\n",
              "      <td>4096</td>\n",
              "      <td>267</td>\n",
              "      <td>6</td>\n",
              "      <td>4096</td>\n",
              "      <td>0</td>\n",
              "      <td>4194304</td>\n",
              "      <td>4096</td>\n",
              "      <td>45056</td>\n",
              "      <td>0</td>\n",
              "      <td>1</td>\n",
              "    </tr>\n",
              "    <tr>\n",
              "      <th>3</th>\n",
              "      <td>224</td>\n",
              "      <td>0</td>\n",
              "      <td>1032192</td>\n",
              "      <td>1003520</td>\n",
              "      <td>4096</td>\n",
              "      <td>4</td>\n",
              "      <td>2</td>\n",
              "      <td>32768</td>\n",
              "      <td>4</td>\n",
              "      <td>128</td>\n",
              "      <td>783</td>\n",
              "      <td>512</td>\n",
              "      <td>267</td>\n",
              "      <td>7</td>\n",
              "      <td>4096</td>\n",
              "      <td>14</td>\n",
              "      <td>4194304</td>\n",
              "      <td>4096</td>\n",
              "      <td>58880</td>\n",
              "      <td>0</td>\n",
              "      <td>1</td>\n",
              "    </tr>\n",
              "    <tr>\n",
              "      <th>4</th>\n",
              "      <td>224</td>\n",
              "      <td>0</td>\n",
              "      <td>110592</td>\n",
              "      <td>73728</td>\n",
              "      <td>4096</td>\n",
              "      <td>4</td>\n",
              "      <td>2</td>\n",
              "      <td>0</td>\n",
              "      <td>4</td>\n",
              "      <td>128</td>\n",
              "      <td>783</td>\n",
              "      <td>512</td>\n",
              "      <td>267</td>\n",
              "      <td>7</td>\n",
              "      <td>4096</td>\n",
              "      <td>2</td>\n",
              "      <td>4194304</td>\n",
              "      <td>4096</td>\n",
              "      <td>54784</td>\n",
              "      <td>0</td>\n",
              "      <td>1</td>\n",
              "    </tr>\n",
              "    <tr>\n",
              "      <th>...</th>\n",
              "      <td>...</td>\n",
              "      <td>...</td>\n",
              "      <td>...</td>\n",
              "      <td>...</td>\n",
              "      <td>...</td>\n",
              "      <td>...</td>\n",
              "      <td>...</td>\n",
              "      <td>...</td>\n",
              "      <td>...</td>\n",
              "      <td>...</td>\n",
              "      <td>...</td>\n",
              "      <td>...</td>\n",
              "      <td>...</td>\n",
              "      <td>...</td>\n",
              "      <td>...</td>\n",
              "      <td>...</td>\n",
              "      <td>...</td>\n",
              "      <td>...</td>\n",
              "      <td>...</td>\n",
              "      <td>...</td>\n",
              "      <td>...</td>\n",
              "    </tr>\n",
              "    <tr>\n",
              "      <th>19606</th>\n",
              "      <td>224</td>\n",
              "      <td>3</td>\n",
              "      <td>36864</td>\n",
              "      <td>32768</td>\n",
              "      <td>4096</td>\n",
              "      <td>6</td>\n",
              "      <td>3</td>\n",
              "      <td>33088</td>\n",
              "      <td>6</td>\n",
              "      <td>240</td>\n",
              "      <td>258</td>\n",
              "      <td>512</td>\n",
              "      <td>267</td>\n",
              "      <td>5</td>\n",
              "      <td>4096</td>\n",
              "      <td>3</td>\n",
              "      <td>4194304</td>\n",
              "      <td>8192</td>\n",
              "      <td>23040</td>\n",
              "      <td>3</td>\n",
              "      <td>0</td>\n",
              "    </tr>\n",
              "    <tr>\n",
              "      <th>19607</th>\n",
              "      <td>224</td>\n",
              "      <td>0</td>\n",
              "      <td>18882560</td>\n",
              "      <td>18821120</td>\n",
              "      <td>4096</td>\n",
              "      <td>5</td>\n",
              "      <td>2</td>\n",
              "      <td>33088</td>\n",
              "      <td>5</td>\n",
              "      <td>264</td>\n",
              "      <td>258</td>\n",
              "      <td>512</td>\n",
              "      <td>267</td>\n",
              "      <td>5</td>\n",
              "      <td>4096</td>\n",
              "      <td>25</td>\n",
              "      <td>4194304</td>\n",
              "      <td>4096</td>\n",
              "      <td>18795520</td>\n",
              "      <td>1</td>\n",
              "      <td>0</td>\n",
              "    </tr>\n",
              "    <tr>\n",
              "      <th>19608</th>\n",
              "      <td>224</td>\n",
              "      <td>0</td>\n",
              "      <td>278528</td>\n",
              "      <td>266240</td>\n",
              "      <td>0</td>\n",
              "      <td>5</td>\n",
              "      <td>3</td>\n",
              "      <td>34112</td>\n",
              "      <td>5</td>\n",
              "      <td>128</td>\n",
              "      <td>8450</td>\n",
              "      <td>512</td>\n",
              "      <td>267</td>\n",
              "      <td>4</td>\n",
              "      <td>4096</td>\n",
              "      <td>0</td>\n",
              "      <td>268435456</td>\n",
              "      <td>0</td>\n",
              "      <td>256000</td>\n",
              "      <td>0</td>\n",
              "      <td>0</td>\n",
              "    </tr>\n",
              "    <tr>\n",
              "      <th>19609</th>\n",
              "      <td>224</td>\n",
              "      <td>3</td>\n",
              "      <td>376832</td>\n",
              "      <td>368640</td>\n",
              "      <td>4096</td>\n",
              "      <td>6</td>\n",
              "      <td>2</td>\n",
              "      <td>320</td>\n",
              "      <td>6</td>\n",
              "      <td>224</td>\n",
              "      <td>8450</td>\n",
              "      <td>512</td>\n",
              "      <td>267</td>\n",
              "      <td>5</td>\n",
              "      <td>4096</td>\n",
              "      <td>0</td>\n",
              "      <td>268435456</td>\n",
              "      <td>4096</td>\n",
              "      <td>355328</td>\n",
              "      <td>3</td>\n",
              "      <td>0</td>\n",
              "    </tr>\n",
              "    <tr>\n",
              "      <th>19610</th>\n",
              "      <td>224</td>\n",
              "      <td>3</td>\n",
              "      <td>606208</td>\n",
              "      <td>577536</td>\n",
              "      <td>4096</td>\n",
              "      <td>6</td>\n",
              "      <td>2</td>\n",
              "      <td>320</td>\n",
              "      <td>6</td>\n",
              "      <td>240</td>\n",
              "      <td>8450</td>\n",
              "      <td>512</td>\n",
              "      <td>267</td>\n",
              "      <td>6</td>\n",
              "      <td>4096</td>\n",
              "      <td>10</td>\n",
              "      <td>1980235776</td>\n",
              "      <td>4096</td>\n",
              "      <td>564224</td>\n",
              "      <td>3</td>\n",
              "      <td>0</td>\n",
              "    </tr>\n",
              "  </tbody>\n",
              "</table>\n",
              "<p>19611 rows × 21 columns</p>\n",
              "</div>"
            ],
            "text/plain": [
              "       SizeOfOptionalHeader  MinorImageVersion  ...  MinorSubsystemVersion  Malware\n",
              "0                       240                  0  ...                      2        1\n",
              "1                       224                  0  ...                      0        1\n",
              "2                       224                  0  ...                      0        1\n",
              "3                       224                  0  ...                      0        1\n",
              "4                       224                  0  ...                      0        1\n",
              "...                     ...                ...  ...                    ...      ...\n",
              "19606                   224                  3  ...                      3        0\n",
              "19607                   224                  0  ...                      1        0\n",
              "19608                   224                  0  ...                      0        0\n",
              "19609                   224                  3  ...                      3        0\n",
              "19610                   224                  3  ...                      3        0\n",
              "\n",
              "[19611 rows x 21 columns]"
            ]
          },
          "metadata": {
            "tags": []
          },
          "execution_count": 16
        }
      ]
    },
    {
      "cell_type": "markdown",
      "metadata": {
        "id": "kiSUJ1yMCaib"
      },
      "source": [
        "Посмотрим на распределения оставшихся признаков, а также целевого."
      ]
    },
    {
      "cell_type": "code",
      "metadata": {
        "colab": {
          "base_uri": "https://localhost:8080/",
          "height": 1000
        },
        "id": "Vh8mSMSTHavH",
        "outputId": "a342442b-e49b-420d-b1d8-d44307971495"
      },
      "source": [
        "data.drop(['Malware'], axis=1).hist(figsize=(20, 10))"
      ],
      "execution_count": null,
      "outputs": [
        {
          "output_type": "execute_result",
          "data": {
            "text/plain": [
              "array([[<matplotlib.axes._subplots.AxesSubplot object at 0x7f96d2eeb358>,\n",
              "        <matplotlib.axes._subplots.AxesSubplot object at 0x7f96d25efd30>,\n",
              "        <matplotlib.axes._subplots.AxesSubplot object at 0x7f96d25a53c8>,\n",
              "        <matplotlib.axes._subplots.AxesSubplot object at 0x7f96d2554a20>],\n",
              "       [<matplotlib.axes._subplots.AxesSubplot object at 0x7f96d250e0b8>,\n",
              "        <matplotlib.axes._subplots.AxesSubplot object at 0x7f96d24ba710>,\n",
              "        <matplotlib.axes._subplots.AxesSubplot object at 0x7f96d24e7d68>,\n",
              "        <matplotlib.axes._subplots.AxesSubplot object at 0x7f96d24a23c8>],\n",
              "       [<matplotlib.axes._subplots.AxesSubplot object at 0x7f96d24a2438>,\n",
              "        <matplotlib.axes._subplots.AxesSubplot object at 0x7f96d24110f0>,\n",
              "        <matplotlib.axes._subplots.AxesSubplot object at 0x7f96d23c2748>,\n",
              "        <matplotlib.axes._subplots.AxesSubplot object at 0x7f96d2374da0>],\n",
              "       [<matplotlib.axes._subplots.AxesSubplot object at 0x7f96d23af438>,\n",
              "        <matplotlib.axes._subplots.AxesSubplot object at 0x7f96d2360a90>,\n",
              "        <matplotlib.axes._subplots.AxesSubplot object at 0x7f96d231e128>,\n",
              "        <matplotlib.axes._subplots.AxesSubplot object at 0x7f96d22ce780>],\n",
              "       [<matplotlib.axes._subplots.AxesSubplot object at 0x7f96d2281dd8>,\n",
              "        <matplotlib.axes._subplots.AxesSubplot object at 0x7f96d223e470>,\n",
              "        <matplotlib.axes._subplots.AxesSubplot object at 0x7f96d226fac8>,\n",
              "        <matplotlib.axes._subplots.AxesSubplot object at 0x7f96d222b160>]],\n",
              "      dtype=object)"
            ]
          },
          "metadata": {
            "tags": []
          },
          "execution_count": 17
        },
        {
          "output_type": "display_data",
          "data": {
            "image/png": "[encoded data removed]",
            "text/plain": [
              "<Figure size 1440x720 with 20 Axes>"
            ]
          },
          "metadata": {
            "tags": []
          }
        }
      ]
    },
    {
      "cell_type": "markdown",
      "metadata": {
        "id": "tUhujwMqMDnM"
      },
      "source": [
        "### Распределение целевого признака."
      ]
    },
    {
      "cell_type": "code",
      "metadata": {
        "colab": {
          "base_uri": "https://localhost:8080/",
          "height": 278
        },
        "id": "SZWE385MMJSS",
        "outputId": "c105ea42-df56-405d-8c06-f4aab8d0c63a"
      },
      "source": [
        "data['Malware'].value_counts().plot(kind='bar', label='Malware')\r\n",
        "plt.legend()\r\n",
        "plt.title('Распределение целевого признака');"
      ],
      "execution_count": null,
      "outputs": [
        {
          "output_type": "display_data",
          "data": {
            "image/png": "[encoded data removed]",
            "text/plain": [
              "<Figure size 432x288 with 1 Axes>"
            ]
          },
          "metadata": {
            "tags": []
          }
        }
      ]
    },
    {
      "cell_type": "markdown",
      "metadata": {
        "id": "6moFdjsVMkl7"
      },
      "source": [
        "### Посмотрим на матрицу корреляции."
      ]
    },
    {
      "cell_type": "code",
      "metadata": {
        "colab": {
          "base_uri": "https://localhost:8080/",
          "height": 429
        },
        "id": "CEvRsi9CMoRg",
        "outputId": "81332244-9cc5-45f3-8eb6-a6aedc612fcf"
      },
      "source": [
        "corr_matrix = data.corr()\r\n",
        "\r\n",
        "sns.heatmap(corr_matrix)"
      ],
      "execution_count": null,
      "outputs": [
        {
          "output_type": "execute_result",
          "data": {
            "text/plain": [
              "<matplotlib.axes._subplots.AxesSubplot at 0x7fdafaac2630>"
            ]
          },
          "metadata": {
            "tags": []
          },
          "execution_count": 28
        },
        {
          "output_type": "display_data",
          "data": {
            "image/png": "[encoded data removed]",
            "text/plain": [
              "<Figure size 432x288 with 2 Axes>"
            ]
          },
          "metadata": {
            "tags": []
          }
        }
      ]
    },
    {
      "cell_type": "markdown",
      "metadata": {
        "id": "2hLPgS7y34QY"
      },
      "source": [
        "## Разделим нашу выборку. Чтобы можно было проверить наши результаты на размеченных данных, перед использованием на новых данных.\r\n",
        "\r\n",
        "\r\n",
        "\r\n"
      ]
    },
    {
      "cell_type": "code",
      "metadata": {
        "id": "vZ42wlh94lf5"
      },
      "source": [
        "y, X = data.Malware, data.drop(['Malware'], axis=1)"
      ],
      "execution_count": null,
      "outputs": []
    },
    {
      "cell_type": "code",
      "metadata": {
        "id": "Cmn70qRU33vy"
      },
      "source": [
        "X_train, X_test, y_train, y_test = train_test_split(X, y, test_size=0.33, random_state=42)\r\n",
        "\r\n",
        "X_train, X_test = sc.fit_transform(X_train), sc.transform(X_test)"
      ],
      "execution_count": null,
      "outputs": []
    },
    {
      "cell_type": "markdown",
      "metadata": {
        "id": "Lokeu8LibImf"
      },
      "source": [
        "# Decision Tree"
      ]
    },
    {
      "cell_type": "markdown",
      "metadata": {
        "id": "DG0_j6ocHN2q"
      },
      "source": [
        "## Подберем лучшие параметры для модели"
      ]
    },
    {
      "cell_type": "code",
      "metadata": {
        "id": "njUJA8rO9w4l"
      },
      "source": [
        "decision_tree = DecisionTreeClassifier()\r\n",
        "\r\n",
        "parametrs = { 'criterion' : ('gini', 'entropy'),\r\n",
        "              'splitter': ['best', 'random'],\r\n",
        "              'min_weight_fraction_leaf': [0 + i * 0.01 for i in range(0, 51)],\r\n",
        "              'max_features': ['sqrt', 'log2'],\r\n",
        "              'max_depth': range(1, 20)}\r\n",
        "\r\n",
        "grid = GridSearchCV(decision_tree, parametrs, cv=5)\r\n",
        "grid.fit(X_train, np.ravel(y_train))"
      ],
      "execution_count": null,
      "outputs": []
    },
    {
      "cell_type": "code",
      "metadata": {
        "id": "yvMLr6m7BOW9"
      },
      "source": [
        "grid.best_params_"
      ],
      "execution_count": null,
      "outputs": []
    },
    {
      "cell_type": "markdown",
      "metadata": {
        "id": "pk5GLP6ya8Eg"
      },
      "source": [
        "## Обучим модель решающее дерево и проверим качество."
      ]
    },
    {
      "cell_type": "code",
      "metadata": {
        "id": "OwIZxiRRUkFW",
        "colab": {
          "base_uri": "https://localhost:8080/",
          "height": 461
        },
        "outputId": "55fe068e-9893-46b4-da8c-5c1530110b4a"
      },
      "source": [
        "decision_tree = DecisionTreeClassifier(criterion='gini', splitter='best', max_features='sqrt', max_depth=12)\n",
        "\n",
        "decision_tree.fit(X_train, y_train)\n",
        "y_pred = decision_tree.predict(X_test)\n",
        "\n",
        "print(classification_report(y_test, y_pred, target_names=['Benign', 'Malware']))\n",
        "\n",
        "ax=sns.heatmap(confusion_matrix(y_pred, y_test), annot=True, fmt=\"d\", cmap=plt.cm.Blues, cbar=False)\n",
        "ax.set_xlabel('Predicted labels')\n",
        "ax.set_ylabel('True labels')"
      ],
      "execution_count": null,
      "outputs": [
        {
          "output_type": "stream",
          "text": [
            "              precision    recall  f1-score   support\n",
            "\n",
            "      Benign       0.97      0.94      0.96      1668\n",
            "     Malware       0.98      0.99      0.98      4804\n",
            "\n",
            "    accuracy                           0.98      6472\n",
            "   macro avg       0.97      0.97      0.97      6472\n",
            "weighted avg       0.98      0.98      0.98      6472\n",
            "\n"
          ],
          "name": "stdout"
        },
        {
          "output_type": "execute_result",
          "data": {
            "text/plain": [
              "Text(33.0, 0.5, 'True labels')"
            ]
          },
          "metadata": {
            "tags": []
          },
          "execution_count": 39
        },
        {
          "output_type": "display_data",
          "data": {
            "image/png": "[encoded data removed]",
            "text/plain": [
              "<Figure size 432x288 with 1 Axes>"
            ]
          },
          "metadata": {
            "tags": []
          }
        }
      ]
    },
    {
      "cell_type": "markdown",
      "metadata": {
        "id": "dPHldcnAgPIG"
      },
      "source": [
        "# Random Forest"
      ]
    },
    {
      "cell_type": "markdown",
      "metadata": {
        "id": "IOmLwT4XgVCO"
      },
      "source": [
        "## Подберем параметры для модели случайный лес."
      ]
    },
    {
      "cell_type": "code",
      "metadata": {
        "id": "LlgrzRWUko_3"
      },
      "source": [
        "rand_forest = RandomForestClassifier()\r\n",
        "\r\n",
        "parametrs = { 'n_estimators': range (1, 50, 10),\r\n",
        "              'max_depth': range (1,13, 2),\r\n",
        "              'criterion': ['gini', 'entropy']}\r\n",
        "\r\n",
        "grid = GridSearchCV(rand_forest, parametrs, cv=5)\r\n",
        "grid.fit(X_train, np.ravel(y_train))"
      ],
      "execution_count": null,
      "outputs": []
    },
    {
      "cell_type": "code",
      "metadata": {
        "id": "yNlhT9HWko_7",
        "colab": {
          "base_uri": "https://localhost:8080/"
        },
        "outputId": "93c19b56-b179-4360-b33e-de1440961caa"
      },
      "source": [
        "grid.best_params_"
      ],
      "execution_count": null,
      "outputs": [
        {
          "output_type": "execute_result",
          "data": {
            "text/plain": [
              "{'criterion': 'entropy', 'max_depth': 11, 'n_estimators': 41}"
            ]
          },
          "metadata": {
            "tags": []
          },
          "execution_count": 44
        }
      ]
    },
    {
      "cell_type": "markdown",
      "metadata": {
        "id": "wFx8fO46Ds8v"
      },
      "source": [
        "## Обучим модель случайного леса и проверим качество."
      ]
    },
    {
      "cell_type": "code",
      "metadata": {
        "id": "DomElCD5ko_8",
        "colab": {
          "base_uri": "https://localhost:8080/",
          "height": 461
        },
        "outputId": "7d67ab05-0c60-4ae7-e558-0d7445471d7d"
      },
      "source": [
        "rand_forest = RandomForestClassifier(n_estimators=41, criterion='entropy', max_depth=11)\n",
        "\n",
        "rand_forest.fit(X_train, y_train)\n",
        "y_pred = rand_forest.predict(X_test)\n",
        "\n",
        "print(classification_report(y_test, y_pred, target_names=['Benign', 'Malware']))\n",
        "\n",
        "ax=sns.heatmap(confusion_matrix(y_pred, y_test), annot=True, fmt=\"d\", cmap=plt.cm.Blues, cbar=False)\n",
        "ax.set_xlabel('Predicted labels')\n",
        "ax.set_ylabel('True labels')"
      ],
      "execution_count": null,
      "outputs": [
        {
          "output_type": "stream",
          "text": [
            "              precision    recall  f1-score   support\n",
            "\n",
            "      Benign       0.98      0.95      0.97      1668\n",
            "     Malware       0.98      0.99      0.99      4804\n",
            "\n",
            "    accuracy                           0.98      6472\n",
            "   macro avg       0.98      0.97      0.98      6472\n",
            "weighted avg       0.98      0.98      0.98      6472\n",
            "\n"
          ],
          "name": "stdout"
        },
        {
          "output_type": "execute_result",
          "data": {
            "text/plain": [
              "Text(33.0, 0.5, 'True labels')"
            ]
          },
          "metadata": {
            "tags": []
          },
          "execution_count": 40
        },
        {
          "output_type": "display_data",
          "data": {
            "image/png": "[encoded data removed]",
            "text/plain": [
              "<Figure size 432x288 with 1 Axes>"
            ]
          },
          "metadata": {
            "tags": []
          }
        }
      ]
    },
    {
      "cell_type": "markdown",
      "metadata": {
        "id": "sUXdvi1iCrYH"
      },
      "source": [
        "# Gradient Boosting"
      ]
    },
    {
      "cell_type": "markdown",
      "metadata": {
        "id": "ORxcGg47Cxty"
      },
      "source": [
        "## Подберем параметры для Gradient Boosting."
      ]
    },
    {
      "cell_type": "code",
      "metadata": {
        "id": "6UFWkjlzdBKN"
      },
      "source": [
        "grad_boost = GradientBoostingClassifier()\r\n",
        "\r\n",
        "parametrs = {'n_estimators': range (90, 121, 10),\r\n",
        "              'subsample': [i * 0.1 for i in range(1, 11)],\r\n",
        "              'loss': ['deviance', 'exponential']}\r\n",
        "\r\n",
        "grid = GridSearchCV(grad_boost, parametrs, cv=5)\r\n",
        "grid.fit(X_train, np.ravel(y_train))"
      ],
      "execution_count": null,
      "outputs": []
    },
    {
      "cell_type": "code",
      "metadata": {
        "colab": {
          "base_uri": "https://localhost:8080/"
        },
        "id": "DJhTIw3fdBKO",
        "outputId": "90f9348e-ab75-4d58-9958-7cb586797665"
      },
      "source": [
        "grid.best_params_"
      ],
      "execution_count": null,
      "outputs": [
        {
          "output_type": "execute_result",
          "data": {
            "text/plain": [
              "{'loss': 'deviance', 'n_estimators': 120, 'subsample': 0.9}"
            ]
          },
          "metadata": {
            "tags": []
          },
          "execution_count": 49
        }
      ]
    },
    {
      "cell_type": "markdown",
      "metadata": {
        "id": "8-T-dSsED1Ui"
      },
      "source": [
        "## Обучим модель градиентного бустинга и проверим качество."
      ]
    },
    {
      "cell_type": "code",
      "metadata": {
        "colab": {
          "base_uri": "https://localhost:8080/",
          "height": 461
        },
        "id": "hWCQPMkGdBKO",
        "outputId": "b4cef7eb-9263-4652-81ff-b042f5b78608"
      },
      "source": [
        "grad_boost = GradientBoostingClassifier(loss='deviance', n_estimators=120, subsample=0.9)\n",
        "\n",
        "grad_boost.fit(X_train, y_train)\n",
        "y_pred = grad_boost.predict(X_test)\n",
        "\n",
        "print(classification_report(y_test, y_pred, target_names=['Benign', 'Malware']))\n",
        "\n",
        "ax=sns.heatmap(confusion_matrix(y_pred, y_test), annot=True, fmt=\"d\", cmap=plt.cm.Blues, cbar=False)\n",
        "ax.set_xlabel('Predicted labels')\n",
        "ax.set_ylabel('True labels')"
      ],
      "execution_count": null,
      "outputs": [
        {
          "output_type": "stream",
          "text": [
            "              precision    recall  f1-score   support\n",
            "\n",
            "      Benign       0.97      0.94      0.96      1668\n",
            "     Malware       0.98      0.99      0.99      4804\n",
            "\n",
            "    accuracy                           0.98      6472\n",
            "   macro avg       0.98      0.97      0.97      6472\n",
            "weighted avg       0.98      0.98      0.98      6472\n",
            "\n"
          ],
          "name": "stdout"
        },
        {
          "output_type": "execute_result",
          "data": {
            "text/plain": [
              "Text(33.0, 0.5, 'True labels')"
            ]
          },
          "metadata": {
            "tags": []
          },
          "execution_count": 64
        },
        {
          "output_type": "display_data",
          "data": {
            "image/png": "[encoded data removed]",
            "text/plain": [
              "<Figure size 432x288 with 1 Axes>"
            ]
          },
          "metadata": {
            "tags": []
          }
        }
      ]
    }
  ]
}